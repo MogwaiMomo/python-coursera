{
 "cells": [
  {
   "cell_type": "code",
   "execution_count": 48,
   "id": "48a9cacb",
   "metadata": {},
   "outputs": [],
   "source": [
    "import pandas as pd\n",
    "import numpy as np\n",
    "\n",
    "# set up display area to show dataframe in jupyter qtconsole\n",
    "\n",
    "pd.set_option('display.max_rows', None)\n",
    "pd.set_option('display.max_columns', None)\n",
    "pd.set_option('display.width', None)\n",
    "pd.set_option('display.max_colwidth', -1)\n",
    "\n",
    "\n",
    "# Filter all warnings. If you would like to see the warnings, please comment the two lines below.\n",
    "import warnings\n",
    "warnings.filterwarnings('ignore')"
   ]
  },
  {
   "cell_type": "code",
   "execution_count": 208,
   "id": "0a17e121",
   "metadata": {
    "scrolled": false
   },
   "outputs": [],
   "source": [
    "def answer_one():\n",
    "    Energy = pd.read_excel(\"assets/Energy Indicators.xls\", usecols=[2,3,4,5], skipfooter=1)\n",
    "    GDP = pd.read_csv(\"assets/world_bank.csv\", skiprows=4)\n",
    "    ScimEn = pd.read_excel(\"assets/scimagojr-3.xlsx\").set_index(\"Country\")\n",
    "\n",
    "    # set proper nans\n",
    "    Energy = Energy.replace(['NaN','...'], np.nan)\n",
    "\n",
    "    # set columns\n",
    "    Energy.columns=['Country', 'Energy Supply', 'Energy Supply per Capita', '% Renewable']\n",
    "\n",
    "    # remove dirty outliers\n",
    "    Energy = Energy.drop([8,9,15,16])\n",
    "\n",
    "    # remove dirty header text\n",
    "    rows_to_omit_based_on_renewables = ['Last update: December 2015',\n",
    "                                        'website: http://unstats.un.org/unsd/ENVIRONMENT/qindicators.htm']\n",
    "\n",
    "    rows_to_omit_based_on_country = ['Environmental Indicators: Energy',\n",
    "                                     'Energy Supply and Renewable Electricity Production in 2013',\n",
    "                                     'Choose a country from the following drop-down list:',\n",
    "                                     'Excludes the overseas territories.',\n",
    "           'Data exclude Hong Kong and Macao Special Administrative Regions (Hong Kong SAR and Macao SAR) and Taiwan Province.',\n",
    "           'Data on kerosene-type jet fuel include aviation gasoline and other kerosene.',\n",
    "           'For confidentiality reasons, data on coal and coal products, jet fuel, petroleum coke and other petroleum products (2009-2012), stock changes of other kerosene (2010-12), exports of charcoal (2009-2012), and data on fuelwood (2010-2012) are not available.',\n",
    "           'Data exclude Greenland and the Danish Faroes.',\n",
    "           'Data include Monaco, and exclude the following overseas departments and territories: Guadeloupe, Guyana, Martinique, New Caledonia, French Polynesia, Reunion, and St. Pierre and Miquelon.',\n",
    "           'Data for kerosene-type jet fuel include other kerosene.',\n",
    "           'Data include Timor-Leste until 2001.',\n",
    "           'Data include San Marino and the Holy See. ',\n",
    "           'Data include Okinawa.',\n",
    "           'The data for crude oil production include 50 per cent of the output of the Neutral Zone. ',\n",
    "           'Data exclude Suriname and the Netherlands Antilles.',\n",
    "           'Data include the Azores and Madeira.',\n",
    "           'Data for crude oil production include 50 per cent of the output of the Neutral Zone.',\n",
    "           'Data exclude Kosovo from 2000 onwards.',\n",
    "           'Data include the Canary Islands.',\n",
    "           'Data include Liechtenstein for oil statistics.',\n",
    "           'For confidentiality reasons, data on the following products (mainly on production) may not be available or may be included with other products: lignite (included with peat), patent fuel (included with peat briquettes), aviation gasoline, kerosene-type jet fuel, other kerosene, petroleum coke, paraffin waxes and white spirit (the latter three included with other oil products).',\n",
    "           'Shipments of coal and oil to Jersey, Guernsey and the Isle of Man from the United Kingdom are not classed as exports. Supplies of coal and oil to these islands are, therefore, included as part of UK supply. Exports of natural gas to the Isle of Man are included with the exports to Ireland. ',\n",
    "           'Includes the 50 states and the District of Columbia. Oil statistics as well as coal trade statistics also include Puerto Rico, Guam, the U.S. Virgin Islands, American Samoa, Johnston Atoll, Midway Islands, Wake Island and the Northern Mariana Islands. ']\n",
    "    Energy = Energy[~Energy.Country.isin(rows_to_omit_based_on_country)]\n",
    "    Energy = Energy[~Energy[\"% Renewable\"].isin(rows_to_omit_based_on_renewables)]\n",
    "\n",
    "    # remove superscripts\n",
    "    Energy.Country = Energy.Country.replace(\"\\d+\",\"\",regex=True)\n",
    "\n",
    "    # convert type to floats\n",
    "    Energy[\"Energy Supply\"] = pd.to_numeric(Energy[\"Energy Supply\"])\n",
    "\n",
    "    # convert Energy Supply Column to gigajoules\n",
    "    Energy[\"Energy Supply\"] = Energy[\"Energy Supply\"]*1000000\n",
    "\n",
    "    # Rename the following list of countries (for use in later questions):\n",
    "    energy_country_subs = {\"Republic of Korea\": \"South Korea\",\n",
    "    \"United States of America\": \"United States\",\n",
    "    \"United Kingdom of Great Britain and Northern Ireland\": \"United Kingdom\",\n",
    "    \"China, Hong Kong Special Administrative Region\": \"Hong Kong\"}\n",
    "    Energy = Energy.replace({'Country': energy_country_subs}) \n",
    "\n",
    "    # replace strip parentheses strings from countries, remove empty rows\n",
    "    Energy = (Energy.replace({'Country': {' \\(.+\\)': \"\"}}, regex=True)\n",
    "             .dropna(how='all')\n",
    "             .set_index(\"Country\"))\n",
    "\n",
    "    # Rename the following list of countries (for use in later questions):\n",
    "    gdp_country_subs = {\"Korea, Rep.\": \"South Korea\", \n",
    "    \"Iran, Islamic Rep.\": \"Iran\",\n",
    "    \"Hong Kong SAR, China\": \"Hong Kong\"}\n",
    "    GDP = (GDP.replace({'Country Name': gdp_country_subs})\n",
    "           .rename(columns={'Country Name':'Country'})\n",
    "           .set_index(\"Country\"))\n",
    "\n",
    "\n",
    "    # Join the three datasets: GDP, Energy, and ScimEn into a new dataset (using the intersection of country names). \n",
    "    # Use only the last 10 years (2006-2015) of GDP data and only the top 15 countries by Scimagojr 'Rank' \n",
    "    # (Rank 1 through 15).\n",
    "\n",
    "    final_cols = ['Rank', 'Documents', 'Citable documents', 'Citations', 'Self-citations', 'Citations per document', 'H index', 'Energy Supply', 'Energy Supply per Capita', '% Renewable', '2006', '2007', '2008', '2009', '2010', '2011', '2012', '2013', '2014', '2015']\n",
    "\n",
    "    drop_cols = ['Country Code','Indicator Name', 'Indicator Code', '1960', '1961', '1962', '1963',\n",
    "           '1964', '1965', '1966', '1967', '1968', '1969', '1970', '1971', '1972',\n",
    "           '1973', '1974', '1975', '1976', '1977', '1978', '1979', '1980', '1981',\n",
    "           '1982', '1983', '1984', '1985', '1986', '1987', '1988', '1989', '1990',\n",
    "           '1991', '1992', '1993', '1994', '1995', '1996', '1997', '1998', '1999',\n",
    "           '2000', '2001', '2002', '2003', '2004', '2005', ]\n",
    "\n",
    "\n",
    "    SciEn_Energy = pd.merge(ScimEn, Energy, how='right', left_index=True, right_index=True)\n",
    "    global full_df # set as a global variable so you can access it later\n",
    "    full_df = (pd.merge(SciEn_Energy, GDP, how='left', left_index=True, right_index=True)\n",
    "                  .sort_values(\"Rank\"))\n",
    "\n",
    "    answer_one = (full_df[(full_df[\"Rank\"]<16)]\n",
    "                  .drop(drop_cols, axis=1))\n",
    "    return answer_one"
   ]
  },
  {
   "cell_type": "code",
   "execution_count": 209,
   "id": "815b6087",
   "metadata": {},
   "outputs": [],
   "source": [
    "assert type(answer_one()) == pd.DataFrame, \"Q1: You should return a DataFrame!\"\n",
    "\n",
    "assert answer_one().shape == (15,20), \"Q1: Your DataFrame should have 20 columns and 15 entries!\"\n"
   ]
  },
  {
   "cell_type": "code",
   "execution_count": 206,
   "id": "05c20a68",
   "metadata": {},
   "outputs": [],
   "source": [
    "def answer_two():\n",
    "    answer_two = len(full_df) - len(answer_one())\n",
    "    return answer_two\n",
    "    #raise NotImplementedError()"
   ]
  },
  {
   "cell_type": "code",
   "execution_count": 207,
   "id": "ba394102",
   "metadata": {},
   "outputs": [],
   "source": [
    "assert type(answer_two()) == int, \"Q2: You should return an int number!\""
   ]
  },
  {
   "cell_type": "markdown",
   "id": "ff963f09",
   "metadata": {},
   "source": [
    "### Question 3\n",
    "What are the top 15 countries for average GDP over the last 10 years?\n",
    "\n",
    "*This function should return a Series named `avgGDP` with 15 countries and their average GDP sorted in descending order.*"
   ]
  },
  {
   "cell_type": "code",
   "execution_count": 204,
   "id": "3f0d7ab9",
   "metadata": {
    "scrolled": true
   },
   "outputs": [],
   "source": [
    "def answer_three():  \n",
    "    # get sub-df of just GDP scores\n",
    "    just_GDPs = answer_one()[[\"2006\", \"2007\", \"2008\", \"2009\",\"2010\", \"2011\",\"2012\", \"2013\",\"2014\", \"2015\"]]\n",
    "\n",
    "    # use apply(means)\n",
    "    just_GDPs[\"avgGDP\"] = just_GDPs.apply(np.mean, axis=1)\n",
    "\n",
    "    just_GDPs.sort_values(by=\"avgGDP\", ascending=False, inplace=True)\n",
    "\n",
    "    avgGDP = just_GDPs[\"avgGDP\"]\n",
    "    return avgGDP"
   ]
  },
  {
   "cell_type": "code",
   "execution_count": 205,
   "id": "7afb1274",
   "metadata": {},
   "outputs": [],
   "source": [
    "assert type(answer_three()) == pd.Series, \"Q3: You should return a Series!\""
   ]
  },
  {
   "cell_type": "markdown",
   "id": "8737519f",
   "metadata": {},
   "source": [
    "### Question 4\n",
    "By how much had the GDP changed over the 10 year span for the country with the 6th largest average GDP?\n",
    "\n",
    "*This function should return a single number.*"
   ]
  },
  {
   "cell_type": "code",
   "execution_count": 210,
   "id": "e5930b4e",
   "metadata": {},
   "outputs": [
    {
     "data": {
      "text/plain": [
       "'United Kingdom'"
      ]
     },
     "execution_count": 210,
     "metadata": {},
     "output_type": "execute_result"
    }
   ],
   "source": [
    "def answer_four():\n",
    "    # locate the 6th largest average GDP, using the series from Question 3\n",
    "    sixth_country = answer_three().index[(6-1)] # 0-indexed\n",
    "\n",
    "    # get range of GDPs from 2006-2015\n",
    "    UK_GDPs = just_GDPs.loc[sixth_country]\n",
    "    answer_four = max(UK_GDPs) - min(UK_GDPs)\n",
    "    answer_four = round(answer_four, 2)\n",
    "    #return answer_four\n",
    "return(answer_four)"
   ]
  },
  {
   "cell_type": "code",
   "execution_count": 197,
   "id": "7d0bea34",
   "metadata": {},
   "outputs": [
    {
     "data": {
      "text/plain": [
       "299285784765.14"
      ]
     },
     "execution_count": 197,
     "metadata": {},
     "output_type": "execute_result"
    }
   ],
   "source": [
    "answer_four()"
   ]
  },
  {
   "cell_type": "markdown",
   "id": "adf75a64",
   "metadata": {},
   "source": [
    "### Question 5\n",
    "What is the mean energy supply per capita?\n",
    "\n",
    "*This function should return a single number.*"
   ]
  },
  {
   "cell_type": "code",
   "execution_count": 166,
   "id": "9c3ef8da",
   "metadata": {},
   "outputs": [
    {
     "data": {
      "text/plain": [
       "157.6"
      ]
     },
     "execution_count": 166,
     "metadata": {},
     "output_type": "execute_result"
    }
   ],
   "source": [
    "df = answer_one()\n",
    "df[\"Energy Supply per Capita\"].dropna().mean()"
   ]
  },
  {
   "cell_type": "markdown",
   "id": "38849118",
   "metadata": {},
   "source": [
    "### Question 6\n",
    "What country has the maximum % Renewable and what is the percentage?\n",
    "\n",
    "*This function should return a tuple with the name of the country and the percentage.*"
   ]
  },
  {
   "cell_type": "code",
   "execution_count": 186,
   "id": "0a0e66aa",
   "metadata": {},
   "outputs": [],
   "source": [
    "def answer_six():\n",
    "    df = answer_one()\n",
    "    max_renew = df[(df[\"% Renewable\"] == df[\"% Renewable\"].max())]\n",
    "    answer = tuple([max_renew.index[0], max_renew[\"% Renewable\"]])\n",
    "    return(answer)"
   ]
  },
  {
   "cell_type": "code",
   "execution_count": 188,
   "id": "a1f0540c",
   "metadata": {},
   "outputs": [],
   "source": [
    "assert type(answer_six()) == tuple, \"Q6: You should return a tuple!\"\n",
    "\n",
    "assert type(answer_six()[0]) == str, \"Q6: The first element in your result should be the name of the country!\"\n"
   ]
  },
  {
   "cell_type": "markdown",
   "id": "2e369aab",
   "metadata": {},
   "source": [
    "### Question 7\n",
    "Create a new column that is the ratio of Self-Citations to Total Citations. \n",
    "What is the maximum value for this new column, and what country has the highest ratio?\n",
    "\n",
    "*This function should return a tuple with the name of the country and the ratio.*"
   ]
  },
  {
   "cell_type": "code",
   "execution_count": null,
   "id": "f7a73c6c",
   "metadata": {},
   "outputs": [],
   "source": []
  }
 ],
 "metadata": {
  "kernelspec": {
   "display_name": "Python 3 (ipykernel)",
   "language": "python",
   "name": "python3"
  },
  "language_info": {
   "codemirror_mode": {
    "name": "ipython",
    "version": 3
   },
   "file_extension": ".py",
   "mimetype": "text/x-python",
   "name": "python",
   "nbconvert_exporter": "python",
   "pygments_lexer": "ipython3",
   "version": "3.9.7"
  }
 },
 "nbformat": 4,
 "nbformat_minor": 5
}
