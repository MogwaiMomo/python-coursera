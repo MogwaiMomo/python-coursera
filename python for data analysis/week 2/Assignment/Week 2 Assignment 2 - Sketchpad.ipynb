{
 "cells": [
  {
   "cell_type": "markdown",
   "id": "27217c02",
   "metadata": {},
   "source": [
    "# Assignment 2\n",
    "For this assignment you'll be looking at 2017 data on immunizations from the CDC. Your datafile for this assignment is in [assets/NISPUF17.csv](assets/NISPUF17.csv). A data users guide for this, which you'll need to map the variables in the data to the questions being asked, is available at [assets/NIS-PUF17-DUG.pdf](assets/NIS-PUF17-DUG.pdf). **Note: you may have to go to your Jupyter tree (click on the Coursera image) and navigate to the assignment 2 assets folder to see this PDF file).**"
   ]
  },
  {
   "cell_type": "markdown",
   "id": "a36666ba",
   "metadata": {},
   "source": [
    "## Question 1\n",
    "Write a function called `proportion_of_education` which returns the proportion of children in the dataset who had a mother with the education levels equal to less than high school (<12), high school (12), more than high school but not a college graduate (>12) and college degree.\n",
    "\n",
    "*This function should return a dictionary in the form of (use the correct numbers, do not round numbers):* \n",
    "```\n",
    "    {\"less than high school\":0.2,\n",
    "    \"high school\":0.4,\n",
    "    \"more than high school but not college\":0.2,\n",
    "    \"college\":0.2}\n",
    "```"
   ]
  },
  {
   "cell_type": "code",
   "execution_count": 164,
   "id": "28d3be70",
   "metadata": {},
   "outputs": [],
   "source": [
    "def proportion_of_education():\n",
    "    df = pd.read_csv(\"NISPUF17.csv\").set_index(['SEQNUMHH', 'SEQNUMC'])\n",
    "    df = df.drop(columns='Unnamed: 0').sort_index()\n",
    "    # get total sum of children\n",
    "    total_children = len(df.index)\n",
    "\n",
    "    # series of mother's education \n",
    "    mother_educ = df['EDUC1']\n",
    "    \n",
    "    # ed_index\n",
    "    ed_index = [\"high school\", \"more than high school but not college\",\"college\",\"less than high school\"]\n",
    "    \n",
    "    # get list of education levels\n",
    "    educ_levels = pd.Series(df['EDUC1'].unique(),index=ed_index).sort_values()\n",
    "    \n",
    "    answer = {}\n",
    "\n",
    "    for index, value in educ_levels.iteritems():\n",
    "        proportion = len(mother_educ[(mother_educ == value)])/total_children\n",
    "        answer[index] = proportion\n",
    "    return(answer)"
   ]
  },
  {
   "cell_type": "code",
   "execution_count": 120,
   "id": "0b6e368b",
   "metadata": {},
   "outputs": [
    {
     "data": {
      "text/plain": [
       "{'less than high school': 0.10202002459160373,\n",
       " 'high school': 0.172352011241876,\n",
       " 'more than high school but not college': 0.24588090637625154,\n",
       " 'college': 0.47974705779026877}"
      ]
     },
     "execution_count": 120,
     "metadata": {},
     "output_type": "execute_result"
    }
   ],
   "source": [
    "proportion_of_education()"
   ]
  },
  {
   "cell_type": "code",
   "execution_count": 166,
   "id": "dca77882",
   "metadata": {},
   "outputs": [],
   "source": [
    "assert type(proportion_of_education())==type({}), \"You must return a dictionary.\"\n",
    "assert len(proportion_of_education()) == 4, \"You have not returned a dictionary with four items in it.\"\n",
    "assert \"less than high school\" in proportion_of_education().keys(), \"You have not returned a dictionary with the correct keys.\"\n",
    "assert \"high school\" in proportion_of_education().keys(), \"You have not returned a dictionary with the correct keys.\"\n",
    "assert \"more than high school but not college\" in proportion_of_education().keys(), \"You have not returned a dictionary with the correct keys.\"\n",
    "assert \"college\" in proportion_of_education().keys(), \"You have not returned a dictionary with the correct keys.\"\n"
   ]
  },
  {
   "cell_type": "markdown",
   "id": "71c026f4",
   "metadata": {},
   "source": [
    "## Question 2\n",
    "\n",
    "Let's explore the relationship between being fed breastmilk as a child and getting a seasonal influenza vaccine from a healthcare provider. Return a tuple of the average number of influenza vaccines for those children we know received breastmilk as a child and those who know did not.\n",
    "\n",
    "*This function should return a tuple in the form (use the correct numbers:*\n",
    "```\n",
    "(2.5, 0.1)\n",
    "```"
   ]
  },
  {
   "cell_type": "code",
   "execution_count": 159,
   "id": "ac0928a9",
   "metadata": {},
   "outputs": [
    {
     "data": {
      "text/plain": [
       "(1.8799187420058687, 1.5963945918878317)"
      ]
     },
     "execution_count": 159,
     "metadata": {},
     "output_type": "execute_result"
    }
   ],
   "source": [
    "def average_influenza_doses():\n",
    "    df = pd.read_csv(\"assets/NISPUF17.csv\").set_index(['SEQNUMHH', 'SEQNUMC'])\n",
    "    df = df.drop(columns='Unnamed: 0').sort_index()\n",
    "\n",
    "    # slice 'CBF_O1' and 'P_NUMFLU'\n",
    "    milk_flu = df[['CBF_01', 'P_NUMFLU']]\n",
    "\n",
    "    # slice those who were breastfed \n",
    "    bf = milk_flu[milk_flu['CBF_01'] == 1]\n",
    "    # slice those who weren't breastfed\n",
    "    not_bf = milk_flu[milk_flu['CBF_01'] == 2]\n",
    "\n",
    "\n",
    "    yes = bf['P_NUMFLU'].dropna().sum() / len(bf['P_NUMFLU'].dropna())\n",
    "    no = not_bf['P_NUMFLU'].dropna().sum() / len(not_bf['P_NUMFLU'].dropna())\n",
    "\n",
    "    return((yes,no))\n",
    "\n",
    "average_influenza_doses()"
   ]
  },
  {
   "cell_type": "code",
   "execution_count": 161,
   "id": "973b779e",
   "metadata": {},
   "outputs": [],
   "source": [
    "assert len(average_influenza_doses())==2, \"Return two values in a tuple, the first for yes and the second for no.\""
   ]
  },
  {
   "cell_type": "markdown",
   "id": "edeb4c16",
   "metadata": {},
   "source": [
    "## Question 3\n",
    "It would be interesting to see if there is any evidence of a link between vaccine effectiveness and sex of the child. Calculate the ratio of the number of children who contracted chickenpox but were vaccinated against it (at least one varicella dose) versus those who were vaccinated but did not contract chicken pox. Return results by sex. \n",
    "\n",
    "*This function should return a dictionary in the form of (use the correct numbers):* \n",
    "```\n",
    "    {\"male\":0.2,\n",
    "    \"female\":0.4}\n",
    "```\n",
    "\n",
    "Note: To aid in verification, the `chickenpox_by_sex()['female']` value the autograder is looking for starts with the digits `0.0077`.\n"
   ]
  },
  {
   "cell_type": "code",
   "execution_count": 162,
   "id": "bc0e5802",
   "metadata": {},
   "outputs": [],
   "source": [
    "def chickenpox_by_sex():\n",
    "    df = pd.read_csv(\"assets/NISPUF17.csv\").set_index(['SEQNUMHH', 'SEQNUMC'])\n",
    "    df = df.drop(columns='Unnamed: 0').sort_index()\n",
    "\n",
    "\n",
    "    # slice contracted chickenpox, chickenpox vaccinated, gender\n",
    "    chickpox_df = df[[\"SEX\",\"HAD_CPOX\",\"P_NUMVRC\"]].dropna(subset=['P_NUMVRC'])\n",
    "    chickpox_df = chickpox_df[chickpox_df[\"P_NUMVRC\"]!=0] # only looking at vaccinated children\n",
    "\n",
    "    # vaccinated boys who had cp vs. didn't have cp\n",
    "    had_cp_male = len(chickpox_df.loc[(chickpox_df['SEX'] == 1) & (chickpox_df['HAD_CPOX'] == 1)])\n",
    "    didnt_have_cp_male = len(chickpox_df.loc[(chickpox_df['SEX'] == 1) & (chickpox_df['HAD_CPOX'] == 2)])\n",
    "\n",
    "    # vaccinated girls who had cp vs. didn't have cp\n",
    "    had_cp_female = len(chickpox_df.loc[(chickpox_df['SEX'] == 2) & (chickpox_df['HAD_CPOX'] == 1)])\n",
    "    didnt_have_cp_female = len(chickpox_df.loc[(chickpox_df['SEX'] == 2) & (chickpox_df['HAD_CPOX'] == 2)])\n",
    "\n",
    "\n",
    "    cp_ratios = {\"male\": had_cp_male / didnt_have_cp_male,\n",
    "                 \"female\": had_cp_female / didnt_have_cp_female}\n",
    "\n",
    "    return(cp_ratios)"
   ]
  },
  {
   "cell_type": "code",
   "execution_count": 163,
   "id": "01f9e496",
   "metadata": {},
   "outputs": [],
   "source": [
    "assert len(chickenpox_by_sex())==2, \"Return a dictionary with two items, the first for males and the second for females.\"\n"
   ]
  },
  {
   "cell_type": "markdown",
   "id": "f77c9c61",
   "metadata": {},
   "source": [
    "## Question 4\n",
    "A correlation is a statistical relationship between two variables. If we wanted to know if vaccines work, we might look at the correlation between the use of the vaccine and whether it results in prevention of the infection or disease [1]. In this question, you are to see if there is a correlation between having had the chicken pox and the number of chickenpox vaccine doses given (varicella).\n",
    "\n",
    "Some notes on interpreting the answer. If the `had_chickenpox_column` is either `1` (for yes) or `2` for no, and that the `num_chickenpox_vaccine_column` is the number of doses a child has been given of the varicella vaccine, then a positive correlation (e.g. `corr > 0`) would mean that an increase in `had_chickenpox_column` (which means more no's) would mean an increase in the `num_chickenpox_vaccine_column` (which means more doses of vaccine). If `corr < 0` then there is a negative correlation, indicating that having had chickenpox is related to an increase in the number of vaccine doses. Also, `pval` refers to the probability the relationship observed is significant. In this case `pval` should be very very small (will end in `e-18` indicating a very small number), which means the result unlikely to be by chance.\n",
    "\n",
    "[1] This isn't really the full picture, since we are not looking at when the dose was given. It's possible that children had chickenpox and then their parents went to get them the vaccine. Does this dataset have the data we would need to investigate the timing of the dose?"
   ]
  },
  {
   "cell_type": "code",
   "execution_count": 157,
   "id": "451d2e8d",
   "metadata": {},
   "outputs": [],
   "source": [
    "def corr_chickenpox():\n",
    "    import scipy.stats as stats\n",
    "    import numpy as np\n",
    "    import pandas as pd\n",
    "    \n",
    "    df = pd.read_csv(\"assets/NISPUF17.csv\").set_index(['SEQNUMHH', 'SEQNUMC'])\n",
    "    df = df.drop(columns='Unnamed: 0').sort_index()\n",
    "\n",
    "\n",
    "    cp_corr_df = df[[\"HAD_CPOX\",\"P_NUMVRC\"]]\n",
    "\n",
    "    #select only rows where HAD_CPOX is either yes or no\n",
    "    had_cpx = [1, 2]\n",
    "    cp_corr_df = cp_corr_df[cp_corr_df.HAD_CPOX.isin(had_cpx)].dropna(subset=[\"P_NUMVRC\"])\n",
    "\n",
    "    # get series of had_cpx, vaccine_shots\n",
    "    had_cpx_col = cp_corr_df[\"HAD_CPOX\"]\n",
    "    num_cpx_vac_col = cp_corr_df[\"P_NUMVRC\"]\n",
    "\n",
    "\n",
    "    q4_df=pd.DataFrame({\"had_chickenpox_column\":had_cpx_col,\n",
    "                        \"num_chickenpox_vaccine_column\":num_cpx_vac_col})\n",
    "\n",
    "\n",
    "    # here is some stub code to actually run the correlation\n",
    "    corr, pval=stats.pearsonr(q4_df[\"had_chickenpox_column\"],q4_df[\"num_chickenpox_vaccine_column\"])\n",
    "\n",
    "    \n",
    "    # just return the correlation\n",
    "    return corr\n",
    "\n",
    "    #raise NotImplementedError()"
   ]
  },
  {
   "cell_type": "code",
   "execution_count": 158,
   "id": "1f54c538",
   "metadata": {},
   "outputs": [],
   "source": [
    "assert -1<=corr_chickenpox()<=1, \"You must return a float number between -1.0 and 1.0.\""
   ]
  }
 ],
 "metadata": {
  "kernelspec": {
   "display_name": "Python 3 (ipykernel)",
   "language": "python",
   "name": "python3"
  },
  "language_info": {
   "codemirror_mode": {
    "name": "ipython",
    "version": 3
   },
   "file_extension": ".py",
   "mimetype": "text/x-python",
   "name": "python",
   "nbconvert_exporter": "python",
   "pygments_lexer": "ipython3",
   "version": "3.9.7"
  }
 },
 "nbformat": 4,
 "nbformat_minor": 5
}
