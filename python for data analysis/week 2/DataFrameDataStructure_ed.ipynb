{
 "cells": [
  {
   "cell_type": "markdown",
   "id": "811ab87d",
   "metadata": {},
   "source": [
    "The DataFrame data structure is the heart of the Panda's library. It's a primary object that you'll be working with in data analysis and cleaning tasks.\n",
    "\n",
    "The DataFrame is conceptually a two-dimensional series object, where there's an index and multiple columns of content, with each column having a label. In fact, the distinction between a column and a row is really only a conceptual distinction. And you can think of the DataFrame itself as simply a two-axes labeled array."
   ]
  },
  {
   "cell_type": "code",
   "execution_count": 1,
   "id": "b742f878",
   "metadata": {},
   "outputs": [],
   "source": [
    "import pandas as pd"
   ]
  },
  {
   "cell_type": "code",
   "execution_count": 2,
   "id": "310ce412",
   "metadata": {},
   "outputs": [],
   "source": [
    "record1 = pd.Series({'Name':'Alice',\n",
    "                    'Class': 'Physics',\n",
    "                    'Score': 85})\n",
    "record2 = pd.Series({'Name':'Jack',\n",
    "                    'Class': 'Chemistry',\n",
    "                    'Score': 82})\n",
    "record3 = pd.Series({'Name':'Helen',\n",
    "                    'Class': 'Biology',\n",
    "                    'Score': 90})"
   ]
  },
  {
   "cell_type": "code",
   "execution_count": 4,
   "id": "9280e4d1",
   "metadata": {},
   "outputs": [],
   "source": [
    "df = pd.DataFrame([record1, record2, record3],\n",
    "                 index=['school1', 'school2', 'school3'])"
   ]
  },
  {
   "cell_type": "code",
   "execution_count": null,
   "id": "4eacb48f",
   "metadata": {},
   "outputs": [],
   "source": []
  }
 ],
 "metadata": {
  "kernelspec": {
   "display_name": "Python 3 (ipykernel)",
   "language": "python",
   "name": "python3"
  },
  "language_info": {
   "codemirror_mode": {
    "name": "ipython",
    "version": 3
   },
   "file_extension": ".py",
   "mimetype": "text/x-python",
   "name": "python",
   "nbconvert_exporter": "python",
   "pygments_lexer": "ipython3",
   "version": "3.9.7"
  }
 },
 "nbformat": 4,
 "nbformat_minor": 5
}
