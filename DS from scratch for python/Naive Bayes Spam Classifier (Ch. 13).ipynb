{
 "cells": [
  {
   "cell_type": "code",
   "execution_count": 1,
   "id": "9c37b49c",
   "metadata": {},
   "outputs": [],
   "source": [
    "from io import BytesIO\n",
    "import requests\n",
    "import tarfile\n",
    "from typing import Set, NamedTuple, List, Tuple, Dict, Iterable"
   ]
  },
  {
   "cell_type": "code",
   "execution_count": 2,
   "id": "da6ec376",
   "metadata": {},
   "outputs": [],
   "source": [
    "FILES = [\"https://spamassassin.apache.org/old/publiccorpus/20021010_easy_ham.tar.bz2\",\n",
    "        \"https://spamassassin.apache.org/old/publiccorpus/20021010_hard_ham.tar.bz2\",\n",
    "        \"https://spamassassin.apache.org/old/publiccorpus/20021010_spam.tar.bz2\"]"
   ]
  },
  {
   "cell_type": "code",
   "execution_count": 3,
   "id": "cd466bcf",
   "metadata": {},
   "outputs": [],
   "source": [
    "OUTPUT_DIR = 'spam_data'"
   ]
  },
  {
   "cell_type": "code",
   "execution_count": 4,
   "id": "732e1f8b",
   "metadata": {},
   "outputs": [],
   "source": [
    "for filename in FILES:\n",
    "    content = requests.get(filename).content\n",
    "    fin = BytesIO(content)\n",
    "    with tarfile.open(fileobj=fin, mode='r:bz2') as tf:\n",
    "        tf.extractall(OUTPUT_DIR)\n",
    "    "
   ]
  },
  {
   "cell_type": "code",
   "execution_count": 5,
   "id": "d2dfcebe",
   "metadata": {},
   "outputs": [],
   "source": [
    "import glob, re\n",
    "\n",
    "path = 'spam_data/*/*'"
   ]
  },
  {
   "cell_type": "code",
   "execution_count": 6,
   "id": "d21ac996",
   "metadata": {},
   "outputs": [],
   "source": [
    "# need to type in our classifer code from pp. 178-179 ...\n",
    "\n",
    "from typing import Set\n",
    "import re\n",
    "\n",
    "class Message(NamedTuple):\n",
    "    text: str\n",
    "    is_spam: bool\n",
    "\n",
    "def tokenize(text:str) -> Set[str]:\n",
    "    text = text.lower()\n",
    "    all_words = re.findall(\"[a-z0-9]+\", text)\n",
    "    return set(all_words)\n",
    "\n",
    "assert tokenize(\"Data Science is science\") == {\"data\", \"science\", \"is\"}"
   ]
  },
  {
   "cell_type": "code",
   "execution_count": 7,
   "id": "1c55e5b1",
   "metadata": {},
   "outputs": [],
   "source": [
    "import math\n",
    "from collections import defaultdict # gives a default value if you try to get key that doesn't exist\n",
    "\n",
    "class NaiveBayesClassifier:\n",
    "    def __init__(self, k: float = 0.5) -> None:\n",
    "        self.k = k # smoothing factor\n",
    "        self.tokens: Set[str] = set() \n",
    "        self.token_spam_counts: Dict[str, int] = defaultdict(int)\n",
    "        self.token_ham_counts: Dict[str, int] = defaultdict(int)\n",
    "        self.spam_messages = self.ham_messages = 0\n",
    "        \n",
    "    def train(self, messages: Iterable[Message]) -> None: # list of Message class objects (which are each NamedTuples)\n",
    "        for message in messages:\n",
    "            if message.is_spam:\n",
    "                self.spam_messages += 1   # tallies up messages that are spam based on pre-existing boolean assignments\n",
    "            else:\n",
    "                self.ham_messages += 1\n",
    "                \n",
    "            for token in tokenize(message.text): # generate the set of unique words & iterate\n",
    "                self.tokens.add(token) # add each token to the model's token set one at a time ...\n",
    "                if message.is_spam:\n",
    "                    self.token_spam_counts[token] += 1 # add token as key to spam count dict, and add a 1 to the tally\n",
    "                else:\n",
    "                    self.token_ham_counts[token] += 1 # add token as key to ham count dict, and add a 1 to the tally\n",
    "                    \n",
    "    def _probabilities(self, token: str) -> Tuple[float, float]:\n",
    "        spam = self.token_spam_counts[token]\n",
    "        ham = self.token_ham_counts[token]\n",
    "        \n",
    "        p_token_spam = (spam + self.k) / (self.spam_messages + 2*self.k)\n",
    "        p_token_ham = (ham + self.k) / (self.ham_messages + 2*self.k)\n",
    "        \n",
    "        return p_token_spam, p_token_ham\n",
    "    \n",
    "    \n",
    "    def predict(self, text: str) -> float:\n",
    "        text_tokens = tokenize(text)\n",
    "        log_prob_if_spam = log_prob_if_ham = 0.0\n",
    "        \n",
    "        for token in self.tokens:\n",
    "            prob_if_spam, prob_if_ham = self._probabilities(token)\n",
    "            \n",
    "            if token in text_tokens:\n",
    "                log_prob_if_spam += math.log(prob_if_spam)\n",
    "                log_prob_if_ham += math.log(prob_if_ham)\n",
    "            else:\n",
    "                log_prob_if_spam += math.log(1.0 - prob_if_spam)\n",
    "                log_prob_if_ham += math.log(1.0 - prob_if_ham)\n",
    "            \n",
    "        prob_if_spam = math.exp(log_prob_if_spam)\n",
    "        prob_if_ham = math.exp(log_prob_if_ham)\n",
    "        return prob_if_spam / (prob_if_spam + prob_if_ham)"
   ]
  },
  {
   "cell_type": "code",
   "execution_count": 8,
   "id": "235d16eb",
   "metadata": {},
   "outputs": [],
   "source": [
    "messages = [Message(\"spam rules\", is_spam=True),\n",
    "            Message(\"ham rules\", is_spam=False),\n",
    "            Message(\"hello ham\", is_spam=False)]\n",
    "\n",
    "model = NaiveBayesClassifier(k=0.5)\n",
    "model.train(messages)"
   ]
  },
  {
   "cell_type": "code",
   "execution_count": 9,
   "id": "89922731",
   "metadata": {},
   "outputs": [],
   "source": [
    "assert model.tokens == {\"spam\",\"ham\",\"rules\",\"hello\"}\n",
    "assert model.spam_messages == 1\n",
    "assert model.ham_messages == 2\n",
    "assert model.token_spam_counts == {\"spam\":1, \"rules\": 1}\n",
    "assert model.token_ham_counts == {\"ham\": 2, \"rules\": 1, \"hello\":1}"
   ]
  },
  {
   "cell_type": "code",
   "execution_count": 10,
   "id": "68a165e3",
   "metadata": {},
   "outputs": [],
   "source": [
    "data: List[Message] = []\n",
    "\n",
    "for filename in glob.glob(path):\n",
    "    is_spam = \"ham\" not in filename\n",
    "    \n",
    "    with open(filename, errors='ignore') as email_file:\n",
    "        for line in email_file: \n",
    "            if line.startswith(\"Subject:\"):\n",
    "                subject = line.lstrip(\"Subject: \")\n",
    "                data.append(Message(subject, is_spam))\n",
    "                break # done with this file"
   ]
  },
  {
   "cell_type": "code",
   "execution_count": 13,
   "id": "f4666915",
   "metadata": {},
   "outputs": [],
   "source": [
    "import random\n",
    "from scratch.machine_learning import split_data\n",
    "\n",
    "random.seed(0)\n",
    "train_messages, test_messages = split_data(data, 0.75)\n",
    "\n",
    "model = NaiveBayesClassifier()\n",
    "model.train(train_messages)"
   ]
  },
  {
   "cell_type": "code",
   "execution_count": 14,
   "id": "1c00e7eb",
   "metadata": {},
   "outputs": [],
   "source": [
    "from collections import Counter\n",
    "\n",
    "predictions = [(message, model.predict(message.text))\n",
    "              for message in test_messages]"
   ]
  },
  {
   "cell_type": "code",
   "execution_count": 28,
   "id": "71eaee80",
   "metadata": {},
   "outputs": [
    {
     "data": {
      "text/plain": [
       "Counter({(False, False): 664,\n",
       "         (True, True): 85,\n",
       "         (True, False): 54,\n",
       "         (False, True): 22})"
      ]
     },
     "execution_count": 28,
     "metadata": {},
     "output_type": "execute_result"
    }
   ],
   "source": [
    "confusion_matrix = Counter((message.is_spam, spam_probability > 0.5)\n",
    "                          for message, spam_probability in predictions)\n",
    "confusion_matrix"
   ]
  },
  {
   "cell_type": "code",
   "execution_count": 30,
   "id": "f9947a66",
   "metadata": {},
   "outputs": [],
   "source": [
    "def p_spam_given_token(token: str, model: NaiveBayesClassifier) -> float:\n",
    "    prob_if_spam, prob_if_ham = model._probabilities(token)    \n",
    "    return prob_if_spam / (prob_if_spam + prob_if_ham)\n",
    "\n",
    "words = sorted(model.tokens, key=lambda t: p_spam_given_token(t, model))\n"
   ]
  },
  {
   "cell_type": "code",
   "execution_count": null,
   "id": "f70e05b2",
   "metadata": {},
   "outputs": [],
   "source": []
  }
 ],
 "metadata": {
  "kernelspec": {
   "display_name": "Python 3 (ipykernel)",
   "language": "python",
   "name": "python3"
  },
  "language_info": {
   "codemirror_mode": {
    "name": "ipython",
    "version": 3
   },
   "file_extension": ".py",
   "mimetype": "text/x-python",
   "name": "python",
   "nbconvert_exporter": "python",
   "pygments_lexer": "ipython3",
   "version": "3.9.7"
  }
 },
 "nbformat": 4,
 "nbformat_minor": 5
}
