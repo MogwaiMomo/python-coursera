{
 "cells": [
  {
   "cell_type": "code",
   "execution_count": 1,
   "id": "008c1842-91b4-4142-94d5-aa198de40811",
   "metadata": {},
   "outputs": [],
   "source": [
    "import numpy as np\n",
    "import pandas as pd"
   ]
  },
  {
   "cell_type": "code",
   "execution_count": 3,
   "id": "64f6fff0-9f2e-4c62-84f4-88aff6a3ea05",
   "metadata": {},
   "outputs": [
    {
     "data": {
      "text/plain": [
       "0.906"
      ]
     },
     "execution_count": 3,
     "metadata": {},
     "output_type": "execute_result"
    }
   ],
   "source": [
    "round((96+19)/(96+19+4+8),3)\n"
   ]
  },
  {
   "cell_type": "markdown",
   "id": "9dbaa693-c021-472f-996c-8974ce00f0c3",
   "metadata": {},
   "source": [
    "# Question 3"
   ]
  },
  {
   "cell_type": "code",
   "execution_count": 4,
   "id": "362bec23-cd8d-4d9f-9895-9b819b936dfa",
   "metadata": {},
   "outputs": [
    {
     "data": {
      "text/plain": [
       "0.923"
      ]
     },
     "execution_count": 4,
     "metadata": {},
     "output_type": "execute_result"
    }
   ],
   "source": [
    "round((96)/(96+8),3)\n"
   ]
  },
  {
   "cell_type": "markdown",
   "id": "785a0596-f913-420c-b205-89619fed9c1a",
   "metadata": {},
   "source": [
    "# Question 4"
   ]
  },
  {
   "cell_type": "code",
   "execution_count": 5,
   "id": "64688152-f512-4f05-8110-567f6f164b85",
   "metadata": {},
   "outputs": [
    {
     "data": {
      "text/plain": [
       "0.96"
      ]
     },
     "execution_count": 5,
     "metadata": {},
     "output_type": "execute_result"
    }
   ],
   "source": [
    "round((96)/(96+4),3)\n"
   ]
  },
  {
   "cell_type": "markdown",
   "id": "45c967af-3a7c-482f-9061-46e2d5cfe361",
   "metadata": {},
   "source": [
    "# Question 5"
   ]
  },
  {
   "cell_type": "code",
   "execution_count": null,
   "id": "2aef38de-fe12-4a33-ab03-63291cd82dc8",
   "metadata": {},
   "outputs": [],
   "source": []
  }
 ],
 "metadata": {
  "kernelspec": {
   "display_name": "Python 3 (ipykernel)",
   "language": "python",
   "name": "python3"
  },
  "language_info": {
   "codemirror_mode": {
    "name": "ipython",
    "version": 3
   },
   "file_extension": ".py",
   "mimetype": "text/x-python",
   "name": "python",
   "nbconvert_exporter": "python",
   "pygments_lexer": "ipython3",
   "version": "3.9.7"
  }
 },
 "nbformat": 4,
 "nbformat_minor": 5
}
