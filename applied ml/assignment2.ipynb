{
 "cells": [
  {
   "cell_type": "code",
   "execution_count": 1,
   "id": "5876cc16-d3f3-404d-8fb3-3e5951055a40",
   "metadata": {},
   "outputs": [],
   "source": [
    "%matplotlib inline"
   ]
  },
  {
   "cell_type": "code",
   "execution_count": 20,
   "id": "8c55a704-3bbd-443b-ba22-275f18b56e1c",
   "metadata": {},
   "outputs": [
    {
     "data": {
      "image/png": "[encoded data removed]",
      "text/plain": [
       "<Figure size 1080x648 with 1 Axes>"
      ]
     },
     "metadata": {
      "needs_background": "light"
     },
     "output_type": "display_data"
    }
   ],
   "source": [
    "import numpy as np\n",
    "import pandas as pd\n",
    "from sklearn.model_selection import train_test_split\n",
    "import matplotlib.pyplot as plt\n",
    "\n",
    "\n",
    "np.random.seed(0)\n",
    "n = 15\n",
    "x = np.linspace(0,10,n) + np.random.randn(n)/5 # 15 buckets for the range 0:10 +/- some noise\n",
    "y = np.sin(x)+x/6 + np.random.randn(n)/10\n",
    "\n",
    "\n",
    "X_train, X_test, y_train, y_test = train_test_split(x, y, random_state=0)\n",
    "\n",
    "# You can use this function to help you visualize the dataset by\n",
    "# plotting a scatterplot of the data points\n",
    "# in the training and test sets.\n",
    "def part1_scatter():\n",
    "    \n",
    "    plt.figure(figsize=(15,9))\n",
    "    plt.scatter(X_train, y_train, label='training data')\n",
    "    plt.scatter(X_test, y_test, label='test data')\n",
    "    plt.legend(loc=4);\n",
    "    \n",
    "    \n",
    "# NOTE: Uncomment the function below to visualize the data, but be sure \n",
    "# to **re-comment it before submitting this assignment to the autograder**.\n",
    "\n",
    "part1_scatter()"
   ]
  },
  {
   "cell_type": "markdown",
   "id": "db1bb308-2389-45cb-93ea-3f932b4c4861",
   "metadata": {},
   "source": [
    "Write a function that fits a polynomial LinearRegression model on the *training data* `X_train` for degrees 1, 3, 6, and 9. (Use PolynomialFeatures in sklearn.preprocessing to create the polynomial features and then fit a linear regression model) For each model, find 100 predicted values over the interval x = 0 to 10 (e.g. `np.linspace(0,10,100)`) and store this in a numpy array. The first row of this array should correspond to the output from the model trained on degree 1, the second row degree 3, the third row degree 6, and the fourth row degree 9."
   ]
  },
  {
   "cell_type": "code",
   "execution_count": 21,
   "id": "f777b1bd-6be8-4199-9624-726348b74bb0",
   "metadata": {},
   "outputs": [],
   "source": [
    "from sklearn.linear_model import LinearRegression\n",
    "from sklearn.preprocessing import PolynomialFeatures\n",
    "\n",
    "# Step 0: transform the data (aka add some wiggle) before fitting\n",
    "x_poly1 = PolynomialFeatures(1).fit_transform(x.reshape(-1,1)) \n",
    "x_poly3 = PolynomialFeatures(3).fit_transform(x.reshape(-1,1)) \n",
    "x_poly6 = PolynomialFeatures(6).fit_transform(x.reshape(-1,1)) \n",
    "x_poly9 = PolynomialFeatures(9).fit_transform(x.reshape(-1,1)) \n",
    "\n",
    "# Step 1: create training & test sets\n",
    "X1_train, X1_test, y_train, y_test = train_test_split(x_poly1, y, random_state=0)\n",
    "X3_train, X3_test, y_train, y_test = train_test_split(x_poly3, y, random_state=0)\n",
    "X6_train, X6_test, y_train, y_test = train_test_split(x_poly6, y, random_state=0)\n",
    "X9_train, X9_test, y_train, y_test = train_test_split(x_poly9, y, random_state=0)\n",
    "\n",
    "# Step 2: train/fit the model \n",
    "poly1_fit = LinearRegression().fit(X1_train, y_train)\n",
    "poly3_fit = LinearRegression().fit(X3_train, y_train)\n",
    "poly6_fit = LinearRegression().fit(X6_train, y_train)\n",
    "poly9_fit = LinearRegression().fit(X9_train, y_train)\n",
    "\n",
    "# Step 3: generate and return predicted ys for x = np.linspace(0,10,100) as a (4,100) array\n",
    "x100 = np.linspace(0,10,100)\n",
    "\n",
    "# calculate required polynomials\n",
    "x100_poly1 = PolynomialFeatures(1).fit_transform(x100.reshape(-1,1)) \n",
    "x100_poly3 = PolynomialFeatures(3).fit_transform(x100.reshape(-1,1)) \n",
    "x100_poly6 = PolynomialFeatures(6).fit_transform(x100.reshape(-1,1)) \n",
    "x100_poly9 = PolynomialFeatures(9).fit_transform(x100.reshape(-1,1)) \n",
    "\n",
    "# get predicted ys for each\n",
    "poly1_y100 = poly1_fit.predict(x100_poly1)\n",
    "poly3_y100 = poly3_fit.predict(x100_poly3)\n",
    "poly6_y100 = poly6_fit.predict(x100_poly6)\n",
    "poly9_y100 = poly9_fit.predict(x100_poly9)\n",
    "\n",
    "answer_one = np.array([poly1_y100, poly3_y100, poly6_y100, poly9_y100])\n"
   ]
  },
  {
   "cell_type": "code",
   "execution_count": 22,
   "id": "6f97710e-5702-4590-b40e-265f5b6d04c2",
   "metadata": {},
   "outputs": [],
   "source": [
    "# Scoring function\n",
    "def output_scores(model, X_train, X_test, y_train, y_test):\n",
    "    print('linear model coeff (w): {}'\n",
    "         .format(model.coef_))\n",
    "    print('linear model intercept (b): {:.3f}'\n",
    "         .format(model.intercept_))\n",
    "    print('R-squared score (training): {:.3f}'\n",
    "         .format(model.score(X_train, y_train)))\n",
    "    print('R-squared score (test): {:.3f}'\n",
    "         .format(model.score(X_test, y_test)))"
   ]
  },
  {
   "cell_type": "markdown",
   "id": "82fc58bb-bed9-45a3-b5e8-6a8a5ed6c92f",
   "metadata": {
    "tags": []
   },
   "source": [
    "### Question 2\n",
    "\n",
    "Write a function that fits a polynomial LinearRegression model on the training data `X_train` for degrees 0 through 9. For each model compute the $R^2$ (coefficient of determination) regression score on the training data as well as the the test data, and return both of these arrays in a tuple.\n",
    "\n",
    "*This function should return one tuple of numpy arrays `(r2_train, r2_test)`. Both arrays should have shape `(10,)`*"
   ]
  },
  {
   "cell_type": "code",
   "execution_count": 23,
   "id": "0065611a-b50d-4ccb-88ba-0bbd55111360",
   "metadata": {},
   "outputs": [],
   "source": [
    "from sklearn.metrics import r2_score\n",
    "\n",
    "# degree range from 0 to 9\n",
    "degrees = np.arange(0, 10, 1)\n",
    "\n",
    "# step 0 transform x (create polynomial generators and calculate polynomials)\n",
    "transformed_x = [ PolynomialFeatures(i).fit_transform(x.reshape(-1,1)) for i in degrees ]\n",
    "\n",
    "# step 1 split data (create list of sets)\n",
    "X_train_X_test_y_train_y_test = [ train_test_split(i,y, random_state=0) for i in transformed_x ]\n",
    "\n",
    "# step 2 fit the model (create list of models)\n",
    "models = [ LinearRegression().fit(i[0], i[2]) for i in X_train_X_test_y_train_y_test ]\n",
    "\n",
    "# step 3 generate predicted ys based on x_test...\n",
    "\n",
    "y_train_preds = [ model.predict(X_train_X_test_y_train_y_test[idx][0]) for idx, model in enumerate(models) ] \n",
    "y_test_preds = [ model.predict(X_train_X_test_y_train_y_test[idx][1]) for idx, model in enumerate(models) ] \n",
    "\n",
    "# step 4 get R2 score - train \n",
    "r2_train =np.asarray([ r2_score(X_train_X_test_y_train_y_test[idx][2], y_train_preds[idx]) \n",
    "            for idx, v in enumerate(X_train_X_test_y_train_y_test) ])\n",
    "\n",
    "r2_test = np.asarray([ r2_score(X_train_X_test_y_train_y_test[idx][3], y_test_preds[idx]) \n",
    "            for idx, v in enumerate(X_train_X_test_y_train_y_test) ])\n",
    "\n",
    "answer_two = (r2_train, r2_test)"
   ]
  },
  {
   "cell_type": "markdown",
   "id": "34b9ac81-f3ed-43e3-ad3d-a697633e10a4",
   "metadata": {},
   "source": [
    "### Question 3\n",
    "Based on the  R2R2  scores from question 2 (degree levels 0 through 9), what degree level corresponds to a model that is underfitting? What degree level corresponds to a model that is overfitting? What choice of degree level would provide a model with good generalization performance on this dataset?\n",
    "\n",
    "Hint: Try plotting the  R2R2  scores from question 2 to visualize the relationship between degree level and  R2R2 . Remember to comment out the import matplotlib line before submission.\n",
    "\n",
    "This function should return one tuple with the degree values in this order: (Underfitting, Overfitting, Good_Generalization). There might be multiple correct solutions, however, you only need to return one possible solution, for example, (1,2,3)."
   ]
  },
  {
   "cell_type": "code",
   "execution_count": 24,
   "id": "925f8b6a-0568-4b67-8f25-b22d87de3ff6",
   "metadata": {},
   "outputs": [],
   "source": [
    "import matplotlib.pyplot as plt\n",
    "\n",
    "def plot_r2():\n",
    "    \n",
    "    plt.plot(degrees, r2_train, label=\"Training Data\")\n",
    "    plt.plot(degrees, r2_test,  label=\"Test Data\")\n",
    "\n",
    "    plt.xlabel('Polynomial Degree')\n",
    "    plt.ylabel('R2 score')\n",
    "\n",
    "    plt.legend()\n",
    "    plt.show()\n",
    "\n",
    "#plot_r2()   \n",
    "\n",
    "answer_three = (3, 8, 6)"
   ]
  },
  {
   "cell_type": "code",
   "execution_count": 25,
   "id": "a1aefa3a-b49e-48c6-8797-8d2a8254e0d7",
   "metadata": {},
   "outputs": [
    {
     "data": {
      "image/png": "[encoded data removed]",
      "text/plain": [
       "<Figure size 432x288 with 1 Axes>"
      ]
     },
     "metadata": {
      "needs_background": "light"
     },
     "output_type": "display_data"
    }
   ],
   "source": [
    "plot_r2()"
   ]
  },
  {
   "cell_type": "markdown",
   "id": "84dd277c-4390-4dd4-a615-50a9fe2c77b1",
   "metadata": {},
   "source": [
    "### Question 4\n",
    "\n",
    "Training models on high degree polynomial features can result in overly complex models that overfit, so we often use regularized versions of the model to constrain model complexity, as we saw with Ridge and Lasso linear regression.\n",
    "\n",
    "For this question, train two models: a non-regularized LinearRegression model (default parameters) and a regularized Lasso Regression model (with parameters `alpha=0.01`, `max_iter=10000`) both on polynomial features of degree 12. Return the $R^2$ score for both the LinearRegression and Lasso model's test sets.\n",
    "\n",
    "*This function should return one tuple `(LinearRegression_R2_test_score, Lasso_R2_test_score)`*"
   ]
  },
  {
   "cell_type": "code",
   "execution_count": 8,
   "id": "e71a3c89-d134-415a-b249-d08d43d459ed",
   "metadata": {},
   "outputs": [
    {
     "data": {
      "text/plain": [
       "array([ 0.35281047,  0.79431716,  1.62431903,  2.59103578,  3.23065446,\n",
       "        3.375973  ,  4.47573197,  4.96972856,  5.69364194,  6.51069113,\n",
       "        7.17166586,  8.14799756,  8.72363612,  9.31004929, 10.08877265])"
      ]
     },
     "execution_count": 8,
     "metadata": {},
     "output_type": "execute_result"
    }
   ],
   "source": [
    "x"
   ]
  },
  {
   "cell_type": "code",
   "execution_count": 61,
   "id": "134dfc51-4e2f-48d6-844f-2e8c09fc5dce",
   "metadata": {},
   "outputs": [
    {
     "data": {
      "text/plain": [
       "(-4.311980555741178, 0.011476661596738214)"
      ]
     },
     "execution_count": 61,
     "metadata": {},
     "output_type": "execute_result"
    }
   ],
   "source": [
    "from sklearn.linear_model import Lasso, LinearRegression \n",
    "from sklearn.preprocessing import MinMaxScaler\n",
    "scaler = MinMaxScaler()\n",
    "\n",
    "# model 1: non-regularized linear regression, degree 12\n",
    "\n",
    "# step 0: transform the data \n",
    "\n",
    "# create the wiggler & fit_transform to generate the polynomials for 12 degrees\n",
    "poly12_x = PolynomialFeatures(12).fit_transform(x.reshape(-1,1))\n",
    "\n",
    "# step 1: split the data\n",
    "poly12_X_train, poly12_X_test, y_train, y_test = train_test_split(poly12_x, y, random_state=0)\n",
    "\n",
    "# step 2: fit the model (non regularized)\n",
    "poly12_model_non_reg = LinearRegression().fit(poly12_X_train, y_train)\n",
    "\n",
    "# generate predicted y based on this model\n",
    "poly12_model_pred_ys = poly12_model_non_reg.predict(poly12_X_test)\n",
    "\n",
    "LinearRegression_R2_test_score = r2_score(y_test, poly12_model_pred_ys)\n",
    "\n",
    "\n",
    "# model 2: regularized Lasso regression (with parameters alpha=0.01, max_iter=10000), degree 12 (need to scale features!)\n",
    "poly12_X_train_scaled = scaler.fit_transform(poly12_X_train)\n",
    "poly12_X_test_scaled = scaler.transform(poly12_X_test)\n",
    "\n",
    "# fit a Lasso fit\n",
    "poly12_model_lasso = Lasso(alpha=0.01, max_iter=10000).fit(poly12_X_train_scaled, y_train)\n",
    "\n",
    "# generate predicted y based on this model\n",
    "poly12_model_lasso_pred_ys = poly12_model_lasso.predict(poly12_X_test_scaled)\n",
    "\n",
    "\n",
    "Lasso_R2_test_score = r2_score(y_test, poly12_model_lasso_pred_ys)\n",
    "\n",
    "\n",
    "answer_four = (LinearRegression_R2_test_score, Lasso_R2_test_score)\n",
    "answer_four"
   ]
  },
  {
   "cell_type": "code",
   "execution_count": null,
   "id": "dca520dd-2693-4623-87ea-ebfc4ae767d8",
   "metadata": {},
   "outputs": [],
   "source": []
  },
  {
   "cell_type": "code",
   "execution_count": null,
   "id": "f8fcad56-04ce-42c5-8ca4-694e80bffddf",
   "metadata": {},
   "outputs": [],
   "source": []
  }
 ],
 "metadata": {
  "kernelspec": {
   "display_name": "Python 3 (ipykernel)",
   "language": "python",
   "name": "python3"
  },
  "language_info": {
   "codemirror_mode": {
    "name": "ipython",
    "version": 3
   },
   "file_extension": ".py",
   "mimetype": "text/x-python",
   "name": "python",
   "nbconvert_exporter": "python",
   "pygments_lexer": "ipython3",
   "version": "3.9.7"
  }
 },
 "nbformat": 4,
 "nbformat_minor": 5
}
