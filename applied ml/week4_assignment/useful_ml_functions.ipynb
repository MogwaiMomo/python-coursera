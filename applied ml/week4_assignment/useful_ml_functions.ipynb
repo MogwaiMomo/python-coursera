{
 "cells": [
  {
   "cell_type": "code",
   "execution_count": null,
   "id": "f19ca492-851c-4729-965e-686ec102dc38",
   "metadata": {},
   "outputs": [],
   "source": [
    "def create_cat_classifier_plot(var, df):\n",
    "    \n",
    "    df1 = cat_vars.groupby(var)['compliance'].value_counts(normalize=True)\n",
    "    df1 = df1.mul(100)\n",
    "    df1 = df1.rename('percent').to_frame().reset_index()\n",
    "\n",
    "    g = sns.catplot(x=var,y='percent',hue='compliance',kind='bar',data=df1)\n",
    "    g.ax.set_ylim(0,100)\n",
    "\n",
    "    # set rotation\n",
    "    g.set_xticklabels(rotation=30, horizontalalignment='right')\n",
    "\n",
    "    for p in g.ax.patches:\n",
    "        txt = str(p.get_height().round(2)) + '%'\n",
    "        txt_x = p.get_x() \n",
    "        txt_y = p.get_height()\n",
    "        g.ax.text(txt_x,txt_y,txt)\n",
    "\n",
    "create_cat_classifier_plot(\"disposition\", cat_vars)"
   ]
  },
  {
   "cell_type": "code",
   "execution_count": null,
   "id": "e019c29a-d159-46b6-a55c-9bba187d40cf",
   "metadata": {},
   "outputs": [],
   "source": [
    "for i, col in enumerate(num_vars.columns):\n",
    "    if (i < 4):\n",
    "        plt.figure(i)\n",
    "        sns.boxplot(x=col, y=\"compliance\", data=num_vars, showmeans=True, medianprops=dict(color=\"red\", alpha=0.7), showfliers = False)"
   ]
  },
  {
   "cell_type": "code",
   "execution_count": null,
   "id": "d26e34dd-bc2b-4c32-8aba-21deb3aad748",
   "metadata": {},
   "outputs": [],
   "source": [
    "def inspect_var_levels(df):\n",
    "    var = []\n",
    "    levels = []\n",
    "    for col in df:\n",
    "        var.append(col)\n",
    "        levels.append(df[col].value_counts().count())\n",
    "\n",
    "    col_counts = pd.DataFrame({\"variable\": var, \"levels\": levels})\n",
    "    return col_counts.sort_values(by=\"levels\")"
   ]
  }
 ],
 "metadata": {
  "kernelspec": {
   "display_name": "Python 3 (ipykernel)",
   "language": "python",
   "name": "python3"
  },
  "language_info": {
   "codemirror_mode": {
    "name": "ipython",
    "version": 3
   },
   "file_extension": ".py",
   "mimetype": "text/x-python",
   "name": "python",
   "nbconvert_exporter": "python",
   "pygments_lexer": "ipython3",
   "version": "3.9.7"
  }
 },
 "nbformat": 4,
 "nbformat_minor": 5
}
