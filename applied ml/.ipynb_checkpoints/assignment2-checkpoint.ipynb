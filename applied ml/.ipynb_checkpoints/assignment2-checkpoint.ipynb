{
 "cells": [
  {
   "cell_type": "code",
   "execution_count": 1,
   "id": "5876cc16-d3f3-404d-8fb3-3e5951055a40",
   "metadata": {},
   "outputs": [],
   "source": [
    "%matplotlib inline"
   ]
  },
  {
   "cell_type": "code",
   "execution_count": 2,
   "id": "8c55a704-3bbd-443b-ba22-275f18b56e1c",
   "metadata": {},
   "outputs": [
    {
     "data": {
      "image/png": "[encoded data removed]",
      "text/plain": [
       "<Figure size 1080x648 with 1 Axes>"
      ]
     },
     "metadata": {
      "needs_background": "light"
     },
     "output_type": "display_data"
    }
   ],
   "source": [
    "import numpy as np\n",
    "import pandas as pd\n",
    "from sklearn.model_selection import train_test_split\n",
    "import matplotlib.pyplot as plt\n",
    "\n",
    "\n",
    "np.random.seed(0)\n",
    "n = 15\n",
    "x = np.linspace(0,10,n) + np.random.randn(n)/5 # 15 buckets for the range 0:10 +/- some noise\n",
    "y = np.sin(x)+x/6 + np.random.randn(n)/10\n",
    "\n",
    "\n",
    "X_train, X_test, y_train, y_test = train_test_split(x, y, random_state=0)\n",
    "\n",
    "# You can use this function to help you visualize the dataset by\n",
    "# plotting a scatterplot of the data points\n",
    "# in the training and test sets.\n",
    "def part1_scatter():\n",
    "    \n",
    "    plt.figure(figsize=(15,9))\n",
    "    plt.scatter(X_train, y_train, label='training data')\n",
    "    plt.scatter(X_test, y_test, label='test data')\n",
    "    plt.legend(loc=4);\n",
    "    \n",
    "    \n",
    "# NOTE: Uncomment the function below to visualize the data, but be sure \n",
    "# to **re-comment it before submitting this assignment to the autograder**.\n",
    "\n",
    "part1_scatter()"
   ]
  },
  {
   "cell_type": "markdown",
   "id": "db1bb308-2389-45cb-93ea-3f932b4c4861",
   "metadata": {},
   "source": [
    "Write a function that fits a polynomial LinearRegression model on the *training data* `X_train` for degrees 1, 3, 6, and 9. (Use PolynomialFeatures in sklearn.preprocessing to create the polynomial features and then fit a linear regression model) For each model, find 100 predicted values over the interval x = 0 to 10 (e.g. `np.linspace(0,10,100)`) and store this in a numpy array. The first row of this array should correspond to the output from the model trained on degree 1, the second row degree 3, the third row degree 6, and the fourth row degree 9."
   ]
  },
  {
   "cell_type": "code",
   "execution_count": 71,
   "id": "f777b1bd-6be8-4199-9624-726348b74bb0",
   "metadata": {},
   "outputs": [
    {
     "data": {
      "text/plain": [
       "(4, 100)"
      ]
     },
     "execution_count": 71,
     "metadata": {},
     "output_type": "execute_result"
    }
   ],
   "source": [
    "from sklearn.linear_model import LinearRegression\n",
    "from sklearn.preprocessing import PolynomialFeatures\n",
    "\n",
    "# Step 0: transform the data (aka add some wiggle) before fitting\n",
    "x_poly1 = PolynomialFeatures(1).fit_transform(x.reshape(-1,1)) \n",
    "x_poly3 = PolynomialFeatures(3).fit_transform(x.reshape(-1,1)) \n",
    "x_poly6 = PolynomialFeatures(6).fit_transform(x.reshape(-1,1)) \n",
    "x_poly9 = PolynomialFeatures(9).fit_transform(x.reshape(-1,1)) \n",
    "\n",
    "# Step 1: create training & test sets\n",
    "X1_train, X1_test, y_train, y_test = train_test_split(x_poly1, y, random_state=0)\n",
    "X3_train, X3_test, y_train, y_test = train_test_split(x_poly3, y, random_state=0)\n",
    "X6_train, X6_test, y_train, y_test = train_test_split(x_poly6, y, random_state=0)\n",
    "X9_train, X9_test, y_train, y_test = train_test_split(x_poly9, y, random_state=0)\n",
    "\n",
    "# Step 2: train/fit the model \n",
    "poly1_fit = LinearRegression().fit(X1_train, y_train)\n",
    "poly3_fit = LinearRegression().fit(X3_train, y_train)\n",
    "poly6_fit = LinearRegression().fit(X6_train, y_train)\n",
    "poly9_fit = LinearRegression().fit(X9_train, y_train)\n",
    "\n",
    "# Step 3: generate and return predicted ys for x = np.linspace(0,10,100) as a (4,100) array\n",
    "x100 = np.linspace(0,10,100)\n",
    "\n",
    "# calculate required polynomials\n",
    "x100_poly1 = poly1.fit_transform(x100.reshape(-1,1)) \n",
    "x100_poly3 = poly3.fit_transform(x100.reshape(-1,1)) \n",
    "x100_poly6 = poly6.fit_transform(x100.reshape(-1,1)) \n",
    "x100_poly9 = poly9.fit_transform(x100.reshape(-1,1)) \n",
    "\n",
    "# get predicted ys for each\n",
    "poly1_y100 = poly1_fit.predict(x100_poly1)\n",
    "poly3_y100 = poly3_fit.predict(x100_poly3)\n",
    "poly6_y100 = poly6_fit.predict(x100_poly6)\n",
    "poly9_y100 = poly9_fit.predict(x100_poly9)\n",
    "\n",
    "answer_one = np.array([poly1_y100, poly3_y100, poly6_y100, poly9_y100])\n"
   ]
  },
  {
   "cell_type": "code",
   "execution_count": 63,
   "id": "6f97710e-5702-4590-b40e-265f5b6d04c2",
   "metadata": {},
   "outputs": [],
   "source": [
    "# Scoring function\n",
    "def output_scores(model, X_train, X_test, y_train, y_test):\n",
    "    print('linear model coeff (w): {}'\n",
    "         .format(model.coef_))\n",
    "    print('linear model intercept (b): {:.3f}'\n",
    "         .format(model.intercept_))\n",
    "    print('R-squared score (training): {:.3f}'\n",
    "         .format(model.score(X_train, y_train)))\n",
    "    print('R-squared score (test): {:.3f}'\n",
    "         .format(model.score(X_test, y_test)))"
   ]
  },
  {
   "cell_type": "markdown",
   "id": "82fc58bb-bed9-45a3-b5e8-6a8a5ed6c92f",
   "metadata": {
    "tags": []
   },
   "source": [
    "### Question 2\n",
    "\n",
    "Write a function that fits a polynomial LinearRegression model on the training data `X_train` for degrees 0 through 9. For each model compute the $R^2$ (coefficient of determination) regression score on the training data as well as the the test data, and return both of these arrays in a tuple.\n",
    "\n",
    "*This function should return one tuple of numpy arrays `(r2_train, r2_test)`. Both arrays should have shape `(10,)`*"
   ]
  },
  {
   "cell_type": "code",
   "execution_count": 72,
   "id": "0065611a-b50d-4ccb-88ba-0bbd55111360",
   "metadata": {},
   "outputs": [],
   "source": [
    "# degree range from 0 to 9\n",
    "degrees = np.arange(0, 10, 1)\n",
    "\n",
    "# step 0 transform x (create polynomial generators and calculate polynomials)\n",
    "transformed_x = [ PolynomialFeatures(i).fit_transform(x.reshape(-1,1)) for i in degrees ]\n",
    "\n",
    "# step 1 split data\n",
    "#for i in transformed_x: train_test_split(i,y ..."
   ]
  },
  {
   "cell_type": "code",
   "execution_count": null,
   "id": "c292c30c-c02b-442d-af88-f4aeea563f0b",
   "metadata": {},
   "outputs": [],
   "source": []
  }
 ],
 "metadata": {
  "kernelspec": {
   "display_name": "Python 3 (ipykernel)",
   "language": "python",
   "name": "python3"
  },
  "language_info": {
   "codemirror_mode": {
    "name": "ipython",
    "version": 3
   },
   "file_extension": ".py",
   "mimetype": "text/x-python",
   "name": "python",
   "nbconvert_exporter": "python",
   "pygments_lexer": "ipython3",
   "version": "3.9.7"
  }
 },
 "nbformat": 4,
 "nbformat_minor": 5
}
