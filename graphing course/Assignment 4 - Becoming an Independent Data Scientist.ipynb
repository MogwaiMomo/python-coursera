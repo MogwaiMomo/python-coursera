{
 "cells": [
  {
   "cell_type": "code",
   "execution_count": 1,
   "id": "3780f63b",
   "metadata": {},
   "outputs": [],
   "source": [
    "%matplotlib notebook\n",
    "\n",
    "# generic packages\n",
    "import sys\n",
    "import re, numpy as np, pandas as pd\n",
    "from pprint import pprint\n",
    "from matplotlib.ticker import PercentFormatter\n",
    "\n",
    "pd.set_option('display.max_rows', None)\n",
    "pd.set_option('display.max_columns', None)\n",
    "pd.set_option('display.width', None)\n",
    "pd.set_option('display.max_colwidth', None)\n",
    "pd.set_option('display.precision', 1)\n",
    "\n",
    "import warnings\n",
    "warnings.filterwarnings(\"ignore\")\n",
    "warnings.filterwarnings(\"ignore\", category=DeprecationWarning) \n",
    "\n",
    "\n",
    "# graphing, vis stuff\n",
    "import matplotlib.pyplot as plt\n",
    "\n",
    "# additional libraries\n",
    "from collections import Counter\n",
    "\n"
   ]
  },
  {
   "cell_type": "markdown",
   "id": "981b6f73",
   "metadata": {},
   "source": [
    "# 1 Region and Domain"
   ]
  },
  {
   "cell_type": "markdown",
   "id": "f24c0f48",
   "metadata": {},
   "source": [
    "# 2 Research Question"
   ]
  },
  {
   "cell_type": "markdown",
   "id": "88ebae60",
   "metadata": {},
   "source": [
    "# 3 Links"
   ]
  },
  {
   "cell_type": "code",
   "execution_count": 6,
   "id": "4eec0d83",
   "metadata": {},
   "outputs": [],
   "source": [
    "# competitive contracts - City of Toronto\n",
    "\n",
    "CC_URL = \"https://wx.toronto.ca/inter/pmmd/callawards.nsf/postedawards?OpenView\"\n",
    "CC_URL2 = \"https://wx.toronto.ca/inter/pmmd/callawards.nsf/postedawards?OpenView&Start=3.8.1\"\n",
    "\n",
    "# non-competitive contracts - City of Toronto\n",
    "\n",
    "NC_URL2 = \"https://wx.toronto.ca/inter/pmmd/solesource.nsf/posted?OpenView&Start=1000&ExpandView\"\n",
    "NC_URL3 = \"https://wx.toronto.ca/inter/pmmd/solesource.nsf/posted?OpenView&Start=1999&ExpandView\""
   ]
  },
  {
   "cell_type": "code",
   "execution_count": 8,
   "id": "cb963f31",
   "metadata": {
    "scrolled": false
   },
   "outputs": [],
   "source": [
    "# WORK THROUGH ... https://realpython.com/beautiful-soup-web-scraper-python/#step-2-scrape-html-content-from-a-page\n",
    "\n",
    "from bs4 import BeautifulSoup\n",
    "import requests\n",
    "\n",
    "NC_URL = \"https://wx.toronto.ca/inter/pmmd/solesource.nsf/posted?OpenView&Start=1&ExpandView\"\n",
    "page = requests.get(NC_URL)\n",
    "\n",
    "soup = BeautifulSoup(page.content, \"html.parser\")\n",
    "\n"
   ]
  },
  {
   "cell_type": "markdown",
   "id": "c6608ffa",
   "metadata": {},
   "source": [
    "# 4 Image"
   ]
  },
  {
   "cell_type": "markdown",
   "id": "859a7211",
   "metadata": {},
   "source": [
    "# 5 Discussion"
   ]
  },
  {
   "cell_type": "code",
   "execution_count": null,
   "id": "7ac11e62",
   "metadata": {},
   "outputs": [],
   "source": []
  }
 ],
 "metadata": {
  "kernelspec": {
   "display_name": "Python 3 (ipykernel)",
   "language": "python",
   "name": "python3"
  },
  "language_info": {
   "codemirror_mode": {
    "name": "ipython",
    "version": 3
   },
   "file_extension": ".py",
   "mimetype": "text/x-python",
   "name": "python",
   "nbconvert_exporter": "python",
   "pygments_lexer": "ipython3",
   "version": "3.9.7"
  }
 },
 "nbformat": 4,
 "nbformat_minor": 5
}
