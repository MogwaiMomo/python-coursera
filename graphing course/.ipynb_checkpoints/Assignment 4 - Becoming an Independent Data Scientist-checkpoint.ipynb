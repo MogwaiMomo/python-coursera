{
 "cells": [
  {
   "cell_type": "code",
   "execution_count": 1,
   "id": "3780f63b",
   "metadata": {},
   "outputs": [],
   "source": [
    "%matplotlib notebook\n",
    "\n",
    "# generic packages\n",
    "import sys\n",
    "import re, numpy as np, pandas as pd\n",
    "from pprint import pprint\n",
    "from matplotlib.ticker import PercentFormatter\n",
    "\n",
    "pd.set_option('display.max_rows', None)\n",
    "pd.set_option('display.max_columns', None)\n",
    "pd.set_option('display.width', None)\n",
    "pd.set_option('display.max_colwidth', None)\n",
    "pd.set_option('display.precision', 1)\n",
    "\n",
    "import warnings\n",
    "warnings.filterwarnings(\"ignore\")\n",
    "warnings.filterwarnings(\"ignore\", category=DeprecationWarning) \n",
    "\n",
    "\n",
    "# graphing, vis stuff\n",
    "import matplotlib.pyplot as plt\n",
    "\n",
    "# additional libraries\n",
    "from collections import Counter\n",
    "\n"
   ]
  },
  {
   "cell_type": "markdown",
   "id": "981b6f73",
   "metadata": {},
   "source": [
    "# 1 Region and Domain"
   ]
  },
  {
   "cell_type": "markdown",
   "id": "f24c0f48",
   "metadata": {},
   "source": [
    "# 2 Research Question\n",
    "\n",
    "\"Which contractors get the most money from the City of Toronto?\""
   ]
  },
  {
   "cell_type": "markdown",
   "id": "88ebae60",
   "metadata": {},
   "source": [
    "# 3 Links"
   ]
  },
  {
   "cell_type": "code",
   "execution_count": 6,
   "id": "4eec0d83",
   "metadata": {},
   "outputs": [
    {
     "name": "stdout",
     "output_type": "stream",
     "text": [
      "https://wx.toronto.ca/inter/pmmd/callawards.nsf/postedawards?OpenView\n",
      "https://wx.toronto.ca/inter/pmmd/callawards.nsf/postedawards?OpenView&Start=3.8.1\n",
      "https://wx.toronto.ca/inter/pmmd/solesource.nsf/posted?OpenView&Start=1&ExpandView\n",
      "https://wx.toronto.ca/inter/pmmd/solesource.nsf/posted?OpenView&Start=1000&ExpandView\n",
      "https://wx.toronto.ca/inter/pmmd/solesource.nsf/posted?OpenView&Start=1999&ExpandView\n"
     ]
    }
   ],
   "source": [
    "# competitive contracts - City of Toronto\n",
    "\n",
    "CC_URL = \"https://wx.toronto.ca/inter/pmmd/callawards.nsf/postedawards?OpenView\"\n",
    "CC_URL2 = \"https://wx.toronto.ca/inter/pmmd/callawards.nsf/postedawards?OpenView&Start=3.8.1\"\n",
    "\n",
    "# non-competitive contracts - City of Toronto\n",
    "NC_URL = \"https://wx.toronto.ca/inter/pmmd/solesource.nsf/posted?OpenView&Start=1&ExpandView\"\n",
    "NC_URL2 = \"https://wx.toronto.ca/inter/pmmd/solesource.nsf/posted?OpenView&Start=1000&ExpandView\"\n",
    "NC_URL3 = \"https://wx.toronto.ca/inter/pmmd/solesource.nsf/posted?OpenView&Start=1999&ExpandView\"\n",
    "\n"
   ]
  },
  {
   "cell_type": "code",
   "execution_count": 27,
   "id": "cb963f31",
   "metadata": {
    "scrolled": false
   },
   "outputs": [
    {
     "data": {
      "text/plain": [
       "5"
      ]
     },
     "execution_count": 27,
     "metadata": {},
     "output_type": "execute_result"
    }
   ],
   "source": [
    "# WORK THROUGH ... https://realpython.com/beautiful-soup-web-scraper-python/#step-2-scrape-html-content-from-a-page\n",
    "\n",
    "from bs4 import BeautifulSoup\n",
    "import requests\n",
    "\n",
    "urls = [CC_URL, CC_URL2, NC_URL, NC_URL2, NC_URL3]\n",
    "pages = [requests.get(url) for url in urls]\n",
    "soups = [BeautifulSoup(page.content, \"html.parser\") for page in pages]\n",
    "len(soups)"
   ]
  },
  {
   "cell_type": "code",
   "execution_count": 64,
   "id": "ca93dd52",
   "metadata": {},
   "outputs": [],
   "source": [
    "tables_per_url = [soups[i].find_all('table') for i in range(len(soups))]\n",
    "\n",
    "ncc_html_tables = [tables_per_url[i][8] for i in range(2,5)]\n",
    "\n",
    "\n",
    "cc_html_tables = [tables_per_url[i][7] for i in range(0,2)]\n"
   ]
  },
  {
   "cell_type": "code",
   "execution_count": 69,
   "id": "0c347dc7",
   "metadata": {},
   "outputs": [
    {
     "ename": "AttributeError",
     "evalue": "'list_iterator' object has no attribute 'text'",
     "output_type": "error",
     "traceback": [
      "\u001b[0;31m---------------------------------------------------------------------------\u001b[0m",
      "\u001b[0;31mAttributeError\u001b[0m                            Traceback (most recent call last)",
      "\u001b[0;32m/var/folders/zv/2nwgh22d7js8r34jp1y61tk00000gn/T/ipykernel_85506/2794164085.py\u001b[0m in \u001b[0;36m<module>\u001b[0;34m\u001b[0m\n\u001b[0;32m----> 1\u001b[0;31m \u001b[0mlist\u001b[0m\u001b[0;34m(\u001b[0m\u001b[0mncc_html_tables\u001b[0m\u001b[0;34m[\u001b[0m\u001b[0;36m0\u001b[0m\u001b[0;34m]\u001b[0m\u001b[0;34m.\u001b[0m\u001b[0mchildren\u001b[0m\u001b[0;34m.\u001b[0m\u001b[0mtext\u001b[0m\u001b[0;34m)\u001b[0m\u001b[0;34m\u001b[0m\u001b[0;34m\u001b[0m\u001b[0m\n\u001b[0m",
      "\u001b[0;31mAttributeError\u001b[0m: 'list_iterator' object has no attribute 'text'"
     ]
    }
   ],
   "source": [
    "# next: try using get_tables function here: https://towardsdatascience.com/a-guide-to-scraping-html-tables-with-pandas-and-beautifulsoup-7fc24c331cf7"
   ]
  },
  {
   "cell_type": "markdown",
   "id": "c6608ffa",
   "metadata": {},
   "source": [
    "# 4 Image"
   ]
  },
  {
   "cell_type": "markdown",
   "id": "859a7211",
   "metadata": {},
   "source": [
    "# 5 Discussion"
   ]
  },
  {
   "cell_type": "code",
   "execution_count": null,
   "id": "7ac11e62",
   "metadata": {},
   "outputs": [],
   "source": []
  }
 ],
 "metadata": {
  "hide_input": false,
  "kernelspec": {
   "display_name": "Python 3 (ipykernel)",
   "language": "python",
   "name": "python3"
  },
  "language_info": {
   "codemirror_mode": {
    "name": "ipython",
    "version": 3
   },
   "file_extension": ".py",
   "mimetype": "text/x-python",
   "name": "python",
   "nbconvert_exporter": "python",
   "pygments_lexer": "ipython3",
   "version": "3.9.7"
  }
 },
 "nbformat": 4,
 "nbformat_minor": 5
}
