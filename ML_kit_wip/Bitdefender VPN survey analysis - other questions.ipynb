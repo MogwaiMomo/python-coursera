{
 "cells": [
  {
   "cell_type": "code",
   "execution_count": 74,
   "id": "de04bbff",
   "metadata": {
    "slideshow": {
     "slide_type": "skip"
    }
   },
   "outputs": [],
   "source": [
    "%matplotlib inline\n",
    "\n",
    "# generic packages\n",
    "import sys\n",
    "import re, numpy as np, pandas as pd\n",
    "from pprint import pprint\n",
    "\n",
    "pd.set_option('display.max_rows', None)\n",
    "pd.set_option('display.max_columns', None)\n",
    "pd.set_option('display.width', None)\n",
    "pd.set_option('display.max_colwidth', None)\n",
    "pd.set_option('display.precision', 1)\n",
    "\n",
    "import warnings\n",
    "warnings.filterwarnings(\"ignore\")\n",
    "\n",
    "# graphing, vis stuff\n",
    "import matplotlib.pyplot as plt\n",
    "import pyLDAvis\n",
    "import pyLDAvis.gensim_models\n",
    "\n",
    "# gensim for topic modelling\n",
    "import gensim, spacy, logging, warnings\n",
    "import gensim.corpora as corpora\n",
    "from gensim.utils import lemmatize, simple_preprocess\n",
    "from gensim.models import CoherenceModel\n",
    "from gensim.models.ldamodel import LdaModel\n",
    "from gensim.models.coherencemodel import CoherenceModel\n",
    "\n",
    "# additional libraries\n",
    "from collections import Counter"
   ]
  },
  {
   "cell_type": "code",
   "execution_count": 215,
   "id": "05754867",
   "metadata": {},
   "outputs": [],
   "source": [
    "# add custom definitions here\n",
    "\n",
    "def prettify(df): # make tables pretty and easier to scan\n",
    "    cell_hover = {\n",
    "        'selector': 'td:hover',\n",
    "        'props': [('background-color', '#ffffb3')]\n",
    "    }\n",
    "    \n",
    "    headers = {\n",
    "        'selector': 'th:not(.index_name)',\n",
    "        'props': 'text-align: left; font-size: 1.8rem; font-family: Helvetica;'\n",
    "    }\n",
    "    cells = {\n",
    "        'selector': 'td',\n",
    "        'props': 'text-align: left; font-size: 1.4rem; padding:10px 30px 10px 10px;'\n",
    "    }\n",
    "    return df.style.set_table_styles([cell_hover, headers, cells]).hide_index()\n",
    "\n",
    "def split_cat_from_text(df, colname, separator):\n",
    "    cat_and_open_df = (df[colname]\n",
    "                  .str.replace(separator, '%%', regex=False)\n",
    "                  .str.split('%%', expand=True)\n",
    "                  .rename(columns={0: colname}))\n",
    "    cat_df = pd.DataFrame(cat_and_open_df.iloc[:,0])\n",
    "    open_df = pd.DataFrame(cat_and_open_df.iloc[:,1])\n",
    "    return cat_and_open_df, cat_df, open_df\n",
    "\n",
    "\n",
    "def count_category(cat_df, colname):\n",
    "    col_summary = (pd.DataFrame(cat_df.groupby(colname).size())\n",
    "                       .rename(columns={0:'Count'})\n",
    "                       .sort_values(\"Count\", ascending=False)\n",
    "                       .reset_index())\n",
    "    \n",
    "    col_total = col_summary['Count'].sum()\n",
    "    col_summary[\"% of Sample\"] = col_summary['Count'].apply(lambda x: x/col_total*100)\n",
    "    \n",
    "    return col_summary\n",
    "\n",
    "\n",
    "def c_to_df(counter):\n",
    "        df = (pd.DataFrame.from_dict(counter, orient='index')\n",
    "              .reset_index()\n",
    "              .sort_values(0, ascending=False)\n",
    "              .dropna())\n",
    "        return(df)\n",
    "        \n",
    "        \n",
    "def split_checkbox(cat_df, colname, multi_separator):\n",
    "    category = cat_df[colname].str.split(multi_separator, expand=True)\n",
    "                \n",
    "    melted_cat = (pd.melt(category).drop(\"variable\", axis=1)\n",
    "                .replace(to_replace=[None, \"NaN\", \"\"], value=np.nan))\n",
    "    melted_cat = Counter(melted_cat[\"value\"])\n",
    "    return melted_cat"
   ]
  },
  {
   "cell_type": "code",
   "execution_count": 216,
   "id": "d74d8148",
   "metadata": {
    "scrolled": true
   },
   "outputs": [
    {
     "data": {
      "text/plain": [
       "Counter({'None': 2053,\n",
       "         'Nord': 701,\n",
       "         'Express': 415,\n",
       "         'Other': 584,\n",
       "         nan: 47627,\n",
       "         'Cyberghost': 104,\n",
       "         '-': 2053,\n",
       "         'VPN': 1220,\n",
       "         'Bitdefender': 2053,\n",
       "         '|': 386,\n",
       "         'was': 2053,\n",
       "         'my': 2053,\n",
       "         'first': 2053,\n",
       "         'choice': 2053})"
      ]
     },
     "execution_count": 216,
     "metadata": {},
     "output_type": "execute_result"
    }
   ],
   "source": [
    "q2_colname = 'Which, if any, alternatives did you consider before deciding on Bitdefender Premium VPN?'\n",
    "q2_separator = '(click here to tyoe) - '\n",
    "q2_multi_separator = ' | '\n",
    "\n",
    "# step 1 - separate cat and open text\n",
    "q2_cat_and_open, q2_cat, q2_open = split_cat_from_text(all_users, q2_colname, q2_separator)\n",
    "\n",
    "# step 2 - get and save open text as csv\n",
    "q2_other = q2_cat_and_open[q2_cat_and_open[q2_colname] == \"Other \"]\n",
    "q2_other.to_csv(\"q2_other_texts.csv\")\n",
    "\n",
    "# Run LDA analysis and then clean up in Google Docs w/ VOC Analysis Kit ...\n",
    "\n",
    "    #q2_other_cleaned = pd.read_csv(\"q2_other_cleaned.csv\") # load human-cleaned version\n",
    "    #q2_other_count = count_category(q1_other_cleaned, \"Category\").rename(columns={'Category':'\"Other\" Theme'})\n",
    "    #prettify(q2_other_count.head())\n",
    "\n",
    "# step 3 - split cats and melt\n",
    "q2_melted_cat = split_checkbox(q2_cat, q2_colname, q2_multi_separator)\n",
    "\n",
    "q2_melted_cat \n",
    "# step 4 - count up & prettify melted cats"
   ]
  },
  {
   "cell_type": "code",
   "execution_count": 191,
   "id": "b521b2b3",
   "metadata": {},
   "outputs": [],
   "source": [
    "# load and filter data for analysis ...\n",
    "\n",
    "raw_csv = pd.read_csv(\"bitdefender_vpn_customer_responses.csv\")\n",
    "\n",
    "cols_to_keep = ['How did you first hear about Bitdefender Premium VPN ?',\n",
    "                'Which, if any, alternatives did you consider before deciding on Bitdefender Premium VPN?',\n",
    "                'What 3 adjectives would you use to describe Bitdefender Premium VPN?',\n",
    "                'On a scale of 0 to 10, how happy are you with Bitdefender Premium VPN? ',\n",
    "                'Do you currently use any OTHER Bitdefender products or plans (e.g. security/antivirus, identity protection, etc.)?',\n",
    "                'If need be, would it be OK to follow up by email to hear more or help with issues you\\'re having?']\n",
    "\n",
    "all_users = raw_csv[cols_to_keep]\n"
   ]
  },
  {
   "cell_type": "markdown",
   "id": "8ddcff04",
   "metadata": {
    "slideshow": {
     "slide_type": "slide"
    }
   },
   "source": [
    "# <u>Question 1: How Users First Heard About Premium VPN</u>"
   ]
  },
  {
   "cell_type": "code",
   "execution_count": 192,
   "id": "29b1b26c",
   "metadata": {
    "slideshow": {
     "slide_type": "subslide"
    }
   },
   "outputs": [
    {
     "data": {
      "text/html": [
       "<style type=\"text/css\">\n",
       "#T_dd8f3_ td:hover {\n",
       "  background-color: #ffffb3;\n",
       "}\n",
       "#T_dd8f3_ th:not(.index_name) {\n",
       "  text-align: left;\n",
       "  font-size: 1.8rem;\n",
       "  font-family: Helvetica;\n",
       "}\n",
       "#T_dd8f3_ td {\n",
       "  text-align: left;\n",
       "  font-size: 1.4rem;\n",
       "  padding: 10px 30px 10px 10px;\n",
       "}\n",
       "</style>\n",
       "<table id=\"T_dd8f3_\">\n",
       "  <thead>\n",
       "    <tr>\n",
       "      <th class=\"col_heading level0 col0\" >How did you first hear about Bitdefender Premium VPN ?</th>\n",
       "      <th class=\"col_heading level0 col1\" >Count</th>\n",
       "      <th class=\"col_heading level0 col2\" >% of Sample</th>\n",
       "    </tr>\n",
       "  </thead>\n",
       "  <tbody>\n",
       "    <tr>\n",
       "      <td id=\"T_dd8f3_row0_col0\" class=\"data row0 col0\" >Received email</td>\n",
       "      <td id=\"T_dd8f3_row0_col1\" class=\"data row0 col1\" >1085</td>\n",
       "      <td id=\"T_dd8f3_row0_col2\" class=\"data row0 col2\" >26.5</td>\n",
       "    </tr>\n",
       "    <tr>\n",
       "      <td id=\"T_dd8f3_row1_col0\" class=\"data row1 col0\" >Other </td>\n",
       "      <td id=\"T_dd8f3_row1_col1\" class=\"data row1 col1\" >1015</td>\n",
       "      <td id=\"T_dd8f3_row1_col2\" class=\"data row1 col2\" >24.8</td>\n",
       "    </tr>\n",
       "    <tr>\n",
       "      <td id=\"T_dd8f3_row2_col0\" class=\"data row2 col0\" >Googled / searched</td>\n",
       "      <td id=\"T_dd8f3_row2_col1\" class=\"data row2 col1\" >622</td>\n",
       "      <td id=\"T_dd8f3_row2_col2\" class=\"data row2 col2\" >15.2</td>\n",
       "    </tr>\n",
       "    <tr>\n",
       "      <td id=\"T_dd8f3_row3_col0\" class=\"data row3 col0\" >Clicked an ad</td>\n",
       "      <td id=\"T_dd8f3_row3_col1\" class=\"data row3 col1\" >481</td>\n",
       "      <td id=\"T_dd8f3_row3_col2\" class=\"data row3 col2\" >11.8</td>\n",
       "    </tr>\n",
       "    <tr>\n",
       "      <td id=\"T_dd8f3_row4_col0\" class=\"data row4 col0\" >A friend told me about it</td>\n",
       "      <td id=\"T_dd8f3_row4_col1\" class=\"data row4 col1\" >456</td>\n",
       "      <td id=\"T_dd8f3_row4_col2\" class=\"data row4 col2\" >11.2</td>\n",
       "    </tr>\n",
       "    <tr>\n",
       "      <td id=\"T_dd8f3_row5_col0\" class=\"data row5 col0\" >Read about it online</td>\n",
       "      <td id=\"T_dd8f3_row5_col1\" class=\"data row5 col1\" >429</td>\n",
       "      <td id=\"T_dd8f3_row5_col2\" class=\"data row5 col2\" >9.2</td>\n",
       "    </tr>\n",
       "  </tbody>\n",
       "</table>\n"
      ],
      "text/plain": [
       "<pandas.io.formats.style.Styler at 0x1259adf70>"
      ]
     },
     "execution_count": 192,
     "metadata": {},
     "output_type": "execute_result"
    }
   ],
   "source": [
    "q1_colname = 'How did you first hear about Bitdefender Premium VPN ?'\n",
    "q1_separator ='(click here to type) -'\n",
    "\n",
    "q1_cat_and_open, q1_cat, q1_open = split_cat_from_text(all_users, q1_colname, q1_separator)\n",
    "q1_summary = count_category(q1_cat, q1_colname)\n",
    "\n",
    "# edit the table copy to make more readable\n",
    "q1_summary.at[0, q1_colname] = \"Received email\"\n",
    "q1_summary.at[2, q1_colname] = \"Googled / searched\"\n",
    "q1_summary.at[3, q1_colname] = \"Clicked an ad\"\n",
    "q1_summary.at[5, q1_colname] = \"Read about it online\"\n",
    "\n",
    "# merge 'read about it on ...' and 'heard suggested in comment on ...' totals\n",
    "total = q1_summary.iloc[5:7][\"Count\"].sum() \n",
    "q1_summary.at[5, \"Count\"] = total\n",
    "q1_summary.drop(index=6, inplace=True)\n",
    "\n",
    "prettify(q1_summary)"
   ]
  },
  {
   "cell_type": "code",
   "execution_count": 217,
   "id": "e226339e",
   "metadata": {},
   "outputs": [
    {
     "data": {
      "text/html": [
       "<style type=\"text/css\">\n",
       "#T_d50a4_ td:hover {\n",
       "  background-color: #ffffb3;\n",
       "}\n",
       "#T_d50a4_ th:not(.index_name) {\n",
       "  text-align: left;\n",
       "  font-size: 1.8rem;\n",
       "  font-family: Helvetica;\n",
       "}\n",
       "#T_d50a4_ td {\n",
       "  text-align: left;\n",
       "  font-size: 1.4rem;\n",
       "  padding: 10px 30px 10px 10px;\n",
       "}\n",
       "</style>\n",
       "<table id=\"T_d50a4_\">\n",
       "  <thead>\n",
       "    <tr>\n",
       "      <th class=\"col_heading level0 col0\" >Other - Open Text</th>\n",
       "      <th class=\"col_heading level0 col1\" >Category</th>\n",
       "    </tr>\n",
       "  </thead>\n",
       "  <tbody>\n",
       "    <tr>\n",
       "      <td id=\"T_d50a4_row0_col0\" class=\"data row0 col0\" > I went to Consumer Reports, PC Mag, and other major reviews.</td>\n",
       "      <td id=\"T_d50a4_row0_col1\" class=\"data row0 col1\" >consumer reports</td>\n",
       "    </tr>\n",
       "    <tr>\n",
       "      <td id=\"T_d50a4_row1_col0\" class=\"data row1 col0\" >Don’t remember. Maybe an on line review</td>\n",
       "      <td id=\"T_d50a4_row1_col1\" class=\"data row1 col1\" >don't remember</td>\n",
       "    </tr>\n",
       "    <tr>\n",
       "      <td id=\"T_d50a4_row2_col0\" class=\"data row2 col0\" >Consumer Report.</td>\n",
       "      <td id=\"T_d50a4_row2_col1\" class=\"data row2 col1\" >consumer reports</td>\n",
       "    </tr>\n",
       "    <tr>\n",
       "      <td id=\"T_d50a4_row3_col0\" class=\"data row3 col0\" >consumer report</td>\n",
       "      <td id=\"T_d50a4_row3_col1\" class=\"data row3 col1\" >consumer reports</td>\n",
       "    </tr>\n",
       "    <tr>\n",
       "      <td id=\"T_d50a4_row4_col0\" class=\"data row4 col0\" >Consumer Reports</td>\n",
       "      <td id=\"T_d50a4_row4_col1\" class=\"data row4 col1\" >consumer reports</td>\n",
       "    </tr>\n",
       "  </tbody>\n",
       "</table>\n"
      ],
      "text/plain": [
       "<pandas.io.formats.style.Styler at 0x12561b430>"
      ]
     },
     "execution_count": 217,
     "metadata": {},
     "output_type": "execute_result"
    }
   ],
   "source": [
    "# what do people say with 'other'?\n",
    "q1_cat_and_open[q1_cat_and_open[q1_colname] == \"Other \"]\n",
    "q1_other.to_csv(\"q1_other_texts.csv\")\n",
    "\n",
    "# Run LDA analysis and then clean up in Google Docs w/ VOC Analysis Kit ...\n",
    "\n",
    "q1_other_cleaned = pd.read_csv(\"q1_other_cleaned.csv\") # load human-cleaned version\n",
    "#q1_other_count = count_category(q1_other_cleaned, \"Category\").rename(columns={'Category':'\"Other\" Theme'})\n",
    "\n",
    "prettify(q1_other_cleaned.head())"
   ]
  },
  {
   "cell_type": "markdown",
   "id": "0a414e06",
   "metadata": {},
   "source": [
    "# Question 2: Which VPN Competitors Did Customers Consider?"
   ]
  },
  {
   "cell_type": "code",
   "execution_count": null,
   "id": "cf31388e",
   "metadata": {},
   "outputs": [],
   "source": [
    "\n",
    "alternatives = (all_users[q2_colname]\n",
    "                .str.replace(q2_multi_separator, '%%', regex=False)\n",
    "                .str.replace(q2_separator,'', regex=False)\n",
    "                .str.split('%%', expand=True)).reset_index()\n",
    "\n",
    "alternatives.rename(columns = {0: 'Competitor_1', 1: 'Competitor_2', 2: 'Competitor_3', 3: 'Competitor_4'}, inplace=True)\n",
    "\n",
    "alternatives = pd.wide_to_long(alternatives, stubnames=['Competitor'], i='index', j='choice', sep='_')\n"
   ]
  },
  {
   "cell_type": "code",
   "execution_count": null,
   "id": "a7498d7c",
   "metadata": {},
   "outputs": [],
   "source": [
    "alternatives[\"Competitor\"] = (alternatives[\"Competitor\"]\n",
    "                              .str.replace(r'[^\\w\\s]+', '')\n",
    "                              .str.lower()\n",
    "                              .str.replace('vpn', '', regex=False)\n",
    "                              .str.strip())"
   ]
  },
  {
   "cell_type": "code",
   "execution_count": null,
   "id": "978aa8dd",
   "metadata": {
    "scrolled": false
   },
   "outputs": [],
   "source": [
    "q2_summary = count_category(alternatives, 'Competitor')\n",
    "prettify(q2_summary.head(10))"
   ]
  },
  {
   "cell_type": "code",
   "execution_count": null,
   "id": "d2f766e8",
   "metadata": {},
   "outputs": [],
   "source": []
  }
 ],
 "metadata": {
  "hide_input": false,
  "kernelspec": {
   "display_name": "Python 3 (ipykernel)",
   "language": "python",
   "name": "python3"
  },
  "language_info": {
   "codemirror_mode": {
    "name": "ipython",
    "version": 3
   },
   "file_extension": ".py",
   "mimetype": "text/x-python",
   "name": "python",
   "nbconvert_exporter": "python",
   "pygments_lexer": "ipython3",
   "version": "3.9.7"
  },
  "widgets": {
   "application/vnd.jupyter.widget-state+json": {
    "state": {},
    "version_major": 2,
    "version_minor": 0
   }
  }
 },
 "nbformat": 4,
 "nbformat_minor": 5
}
