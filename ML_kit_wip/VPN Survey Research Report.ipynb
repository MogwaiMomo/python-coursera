{
 "cells": [
  {
   "cell_type": "markdown",
   "id": "7cf720d5",
   "metadata": {
    "slideshow": {
     "slide_type": "slide"
    }
   },
   "source": [
    "# Q1: Purchase Trigger\n",
    "\n",
    "Original survey question: *\"What specifically made you decide you needed Bitdefender Premium VPN in your life? What triggered this decision for you?\"*"
   ]
  },
  {
   "cell_type": "code",
   "execution_count": 3,
   "id": "8ed82c85",
   "metadata": {
    "slideshow": {
     "slide_type": "skip"
    }
   },
   "outputs": [],
   "source": [
    "import pandas as pd, numpy as np\n",
    "\n",
    "input_csv = \"purchase_prompt_lda_analysis.csv\"\n",
    "\n",
    "df = pd.read_csv(input_csv).iloc[: , 1:] # drop first column\n",
    "\n",
    "table = pd.pivot_table(df, values=['Topic_Perc_Contrib', 'Dominant_Topic'], index=['Keywords'],\n",
    "                    aggfunc={'Topic_Perc_Contrib': np.mean,\n",
    "                             'Dominant_Topic': np.size})\n",
    "table = table.rename(columns = {\n",
    "    'Keywords' : 'Top_Theme_Keywords',\n",
    "    'Dominant_Topic': 'Count',\n",
    "    'Topic_Perc_Contrib':'Mean_Topic_Contrib'}).sort_values(by='Count', ascending=False)\n",
    "\n"
   ]
  },
  {
   "cell_type": "code",
   "execution_count": 34,
   "id": "557c67e3",
   "metadata": {
    "slideshow": {
     "slide_type": "slide"
    }
   },
   "outputs": [
    {
     "data": {
      "text/html": [
       "<div>\n",
       "<style scoped>\n",
       "    .dataframe tbody tr th:only-of-type {\n",
       "        vertical-align: middle;\n",
       "    }\n",
       "\n",
       "    .dataframe tbody tr th {\n",
       "        vertical-align: top;\n",
       "    }\n",
       "\n",
       "    .dataframe thead th {\n",
       "        text-align: right;\n",
       "    }\n",
       "</style>\n",
       "<table border=\"1\" class=\"dataframe\">\n",
       "  <thead>\n",
       "    <tr style=\"text-align: right;\">\n",
       "      <th></th>\n",
       "      <th>Count</th>\n",
       "      <th>Mean_Topic_Contrib</th>\n",
       "    </tr>\n",
       "    <tr>\n",
       "      <th>Keywords</th>\n",
       "      <th></th>\n",
       "      <th></th>\n",
       "    </tr>\n",
       "  </thead>\n",
       "  <tbody>\n",
       "    <tr>\n",
       "      <th>vpn, bitdefender, product, price, work, year, service, already, keep, safe</th>\n",
       "      <td>1083</td>\n",
       "      <td>0.611762</td>\n",
       "    </tr>\n",
       "    <tr>\n",
       "      <th>security, internet, safety, add, additional, track, browse, home, provide, surf</th>\n",
       "      <td>352</td>\n",
       "      <td>0.552383</td>\n",
       "    </tr>\n",
       "    <tr>\n",
       "      <th>computer, protect, email, access, information, site, datum, able, personal, country</th>\n",
       "      <td>224</td>\n",
       "      <td>0.561183</td>\n",
       "    </tr>\n",
       "    <tr>\n",
       "      <th>protection, well, travel, idea, extra, layer, hotel, home, virus, reputation</th>\n",
       "      <td>143</td>\n",
       "      <td>0.553671</td>\n",
       "    </tr>\n",
       "    <tr>\n",
       "      <th>privacy, issue, world, notice, comment, aspect, bit_defender, home, invasion, cybersecurity</th>\n",
       "      <td>119</td>\n",
       "      <td>0.530930</td>\n",
       "    </tr>\n",
       "  </tbody>\n",
       "</table>\n",
       "</div>"
      ],
      "text/plain": [
       "                                                    Count  Mean_Topic_Contrib\n",
       "Keywords                                                                     \n",
       "vpn, bitdefender, product, price, work, year, s...   1083            0.611762\n",
       "security, internet, safety, add, additional, tr...    352            0.552383\n",
       "computer, protect, email, access, information, ...    224            0.561183\n",
       "protection, well, travel, idea, extra, layer, h...    143            0.553671\n",
       "privacy, issue, world, notice, comment, aspect,...    119            0.530930"
      ]
     },
     "execution_count": 34,
     "metadata": {},
     "output_type": "execute_result"
    }
   ],
   "source": []
  }
 ],
 "metadata": {
  "celltoolbar": "Slideshow",
  "hide_input": false,
  "kernelspec": {
   "display_name": "Python 3 (ipykernel)",
   "language": "python",
   "name": "python3"
  },
  "language_info": {
   "codemirror_mode": {
    "name": "ipython",
    "version": 3
   },
   "file_extension": ".py",
   "mimetype": "text/x-python",
   "name": "python",
   "nbconvert_exporter": "python",
   "pygments_lexer": "ipython3",
   "version": "3.9.7"
  }
 },
 "nbformat": 4,
 "nbformat_minor": 5
}
