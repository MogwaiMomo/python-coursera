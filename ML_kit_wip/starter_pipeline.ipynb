{
 "cells": [
  {
   "cell_type": "code",
   "execution_count": 1,
   "id": "5f1da8bc-3fbd-48bb-8a79-c20200867061",
   "metadata": {},
   "outputs": [],
   "source": [
    "%matplotlib inline"
   ]
  },
  {
   "cell_type": "code",
   "execution_count": 2,
   "id": "17884808-9b4b-48ca-8eaa-900228e58839",
   "metadata": {},
   "outputs": [],
   "source": [
    "# global libraries & presets\n",
    "import warnings\n",
    "warnings.filterwarnings('ignore')\n",
    "\n",
    "import sys, os\n",
    "import numpy as np\n",
    "import pandas as pd\n",
    "import string\n",
    "import re\n",
    "from pprint import pprint\n",
    "from collections import Counter\n",
    "\n",
    "pd.set_option('display.max_rows', 500)\n",
    "pd.set_option('display.max_columns', 500)\n",
    "pd.set_option('display.width', 1000)\n",
    "pd.set_option('display.max_rows', 1000)"
   ]
  },
  {
   "cell_type": "markdown",
   "id": "9babd06d-9ffe-4f14-8ec1-26a34540ecc1",
   "metadata": {},
   "source": [
    "# Frame the problem and look at the big picture"
   ]
  },
  {
   "cell_type": "markdown",
   "id": "cfe240b0-635f-4cdd-bffe-fd93a7b0d133",
   "metadata": {},
   "source": [
    "# Get the data"
   ]
  },
  {
   "cell_type": "code",
   "execution_count": 8,
   "id": "4987cd1a-a2c5-406a-ab2d-0b751332d42d",
   "metadata": {},
   "outputs": [
    {
     "name": "stdout",
     "output_type": "stream",
     "text": [
      "File 0: bitdefender_vpn_customer_responses.csv\n",
      "File 1: bitdefender_vpn_customer_responses-extra.csv\n"
     ]
    }
   ],
   "source": [
    "import scrapy\n",
    "from bs4 import BeautifulSoup\n",
    "\n",
    "# pull in all csvs in working directory\n",
    "all_files = os.listdir(\"./\")    \n",
    "csv_files = list(filter(lambda f: f.endswith('.csv'), all_files))\n",
    "all_dfs = {}\n",
    "\n",
    "# save them all to dict\n",
    "for i, file in enumerate(csv_files):\n",
    "    all_dfs[i] = {'name' : file,\n",
    "                  'data' : pd.read_csv(file)}\n",
    "    print(\"File \"+ str(i) + \": \" + file)\n",
    "\n",
    "# grab the data you want with all_df[i]['data'] ...\n",
    "input_df = all_dfs[0]['data']\n"
   ]
  },
  {
   "cell_type": "markdown",
   "id": "2b8af8dc-662a-4899-8fec-5b934b88680d",
   "metadata": {
    "tags": []
   },
   "source": [
    "# Explore the data"
   ]
  },
  {
   "cell_type": "code",
   "execution_count": 18,
   "id": "eeb13114-5ec7-45dc-b3e6-606ea339abac",
   "metadata": {},
   "outputs": [
    {
     "data": {
      "text/html": [
       "<div>\n",
       "<style scoped>\n",
       "    .dataframe tbody tr th:only-of-type {\n",
       "        vertical-align: middle;\n",
       "    }\n",
       "\n",
       "    .dataframe tbody tr th {\n",
       "        vertical-align: top;\n",
       "    }\n",
       "\n",
       "    .dataframe thead th {\n",
       "        text-align: right;\n",
       "    }\n",
       "</style>\n",
       "<table border=\"1\" class=\"dataframe\">\n",
       "  <thead>\n",
       "    <tr style=\"text-align: right;\">\n",
       "      <th></th>\n",
       "      <th>VAR_0</th>\n",
       "      <th>VAR_1</th>\n",
       "      <th>VAR_2</th>\n",
       "      <th>VAR_3</th>\n",
       "      <th>VAR_4</th>\n",
       "      <th>VAR_5</th>\n",
       "      <th>VAR_6</th>\n",
       "      <th>VAR_7</th>\n",
       "      <th>VAR_8</th>\n",
       "      <th>VAR_9</th>\n",
       "      <th>VAR_10</th>\n",
       "      <th>VAR_11</th>\n",
       "      <th>VAR_12</th>\n",
       "      <th>VAR_13</th>\n",
       "      <th>VAR_14</th>\n",
       "      <th>VAR_15</th>\n",
       "      <th>VAR_16</th>\n",
       "      <th>VAR_17</th>\n",
       "      <th>VAR_18</th>\n",
       "      <th>VAR_19</th>\n",
       "      <th>VAR_20</th>\n",
       "    </tr>\n",
       "  </thead>\n",
       "  <tbody>\n",
       "    <tr>\n",
       "      <th>0</th>\n",
       "      <td>4088</td>\n",
       "      <td>00000000</td>\n",
       "      <td>2022-01-26 20:42:55</td>\n",
       "      <td>United States</td>\n",
       "      <td>https://surveys.hotjar.com/55a4efda-e0de-46a9-...</td>\n",
       "      <td>tablet</td>\n",
       "      <td>Chrome Mobile WebView 88.0.4324</td>\n",
       "      <td>Android 9</td>\n",
       "      <td>00000000-0000-0000-0000-000000000000</td>\n",
       "      <td>NaN</td>\n",
       "      <td>A friend told me about it</td>\n",
       "      <td>Security and privacy is one of the most import...</td>\n",
       "      <td>I'm still new to all this,  yet to determine</td>\n",
       "      <td>Knowing someone's watching out for me.</td>\n",
       "      <td>None - Bitdefender was my first choice</td>\n",
       "      <td>Because my well informed friend is happy with ...</td>\n",
       "      <td>NaN</td>\n",
       "      <td>NaN</td>\n",
       "      <td>NaN</td>\n",
       "      <td>NaN</td>\n",
       "      <td>NaN</td>\n",
       "    </tr>\n",
       "    <tr>\n",
       "      <th>1</th>\n",
       "      <td>4087</td>\n",
       "      <td>00000000</td>\n",
       "      <td>2022-01-26 19:55:12</td>\n",
       "      <td>United States</td>\n",
       "      <td>https://surveys.hotjar.com/55a4efda-e0de-46a9-...</td>\n",
       "      <td>desktop</td>\n",
       "      <td>Firefox 96.0</td>\n",
       "      <td>Windows 10</td>\n",
       "      <td>00000000-0000-0000-0000-000000000000</td>\n",
       "      <td>NaN</td>\n",
       "      <td>I received an email about it</td>\n",
       "      <td>I had heard about VPNs and how they provide mo...</td>\n",
       "      <td>I'm not specifically aware of a problem, but I...</td>\n",
       "      <td>Again, I'm not specifically aware of a benefit...</td>\n",
       "      <td>None - Bitdefender was my first choice</td>\n",
       "      <td>I have Bitdefender for my antivirus program</td>\n",
       "      <td>easy to use, but sometimes obtrusive</td>\n",
       "      <td>6.0</td>\n",
       "      <td>It sometimes interferes with my online experie...</td>\n",
       "      <td>yes, I also use ... (click here to type) - ant...</td>\n",
       "      <td>Yes  (click here to type email address) - jean...</td>\n",
       "    </tr>\n",
       "    <tr>\n",
       "      <th>2</th>\n",
       "      <td>4086</td>\n",
       "      <td>00000000</td>\n",
       "      <td>2022-01-26 17:16:22</td>\n",
       "      <td>United States</td>\n",
       "      <td>https://surveys.hotjar.com/55a4efda-e0de-46a9-...</td>\n",
       "      <td>phone</td>\n",
       "      <td>Chrome Mobile 97.0.4692</td>\n",
       "      <td>Android 10</td>\n",
       "      <td>00000000-0000-0000-0000-000000000000</td>\n",
       "      <td>NaN</td>\n",
       "      <td>I received an email about it</td>\n",
       "      <td>Too many scams, hackers and other bad stuff ou...</td>\n",
       "      <td>Phishing</td>\n",
       "      <td>Easy to use except when banking</td>\n",
       "      <td>None - Bitdefender was my first choice</td>\n",
       "      <td>Good reviews.  Many people tell me virus prote...</td>\n",
       "      <td>Convenient, automatic, safe</td>\n",
       "      <td>7.0</td>\n",
       "      <td>VPN will never work when doing online banking....</td>\n",
       "      <td>yes, I also use ... (click here to type) - Sec...</td>\n",
       "      <td>Yes  (click here to type email address) - kjmo...</td>\n",
       "    </tr>\n",
       "    <tr>\n",
       "      <th>3</th>\n",
       "      <td>4085</td>\n",
       "      <td>00000000</td>\n",
       "      <td>2022-01-26 12:22:22</td>\n",
       "      <td>United Kingdom</td>\n",
       "      <td>https://surveys.hotjar.com/55a4efda-e0de-46a9-...</td>\n",
       "      <td>desktop</td>\n",
       "      <td>Safari 15.2</td>\n",
       "      <td>Mac OS X 10.15.6</td>\n",
       "      <td>00000000-0000-0000-0000-000000000000</td>\n",
       "      <td>NaN</td>\n",
       "      <td>I saw an ad and clicked it</td>\n",
       "      <td>Just to have an added level of security</td>\n",
       "      <td>None it just makes me feel as if I have done a...</td>\n",
       "      <td>Feeling more secure</td>\n",
       "      <td>None - Bitdefender was my first choice</td>\n",
       "      <td>Because I use Bitdefender antivirus as it mini...</td>\n",
       "      <td>Quick to function\\nReliable\\nEasy</td>\n",
       "      <td>9.0</td>\n",
       "      <td>See the three adjectives</td>\n",
       "      <td>yes, I also use ... (click here to type) - Sec...</td>\n",
       "      <td>No</td>\n",
       "    </tr>\n",
       "    <tr>\n",
       "      <th>4</th>\n",
       "      <td>4084</td>\n",
       "      <td>00000000</td>\n",
       "      <td>2022-01-26 11:40:58</td>\n",
       "      <td>Canada</td>\n",
       "      <td>https://surveys.hotjar.com/55a4efda-e0de-46a9-...</td>\n",
       "      <td>desktop</td>\n",
       "      <td>Edge 97.0.1072</td>\n",
       "      <td>Windows 10</td>\n",
       "      <td>00000000-0000-0000-0000-000000000000</td>\n",
       "      <td>NaN</td>\n",
       "      <td>I received an email about it</td>\n",
       "      <td>Online privacy is important to me.  I was subs...</td>\n",
       "      <td>Sorry.  No problems experienced.  Limiting the...</td>\n",
       "      <td>Privacy.  It is disturbing how many outfits tr...</td>\n",
       "      <td>Nord VPN | Express VPN</td>\n",
       "      <td>Trust.</td>\n",
       "      <td>Sorry, again.  The VPN services I have used ar...</td>\n",
       "      <td>9.0</td>\n",
       "      <td>I have had no issues with Bitdefender.</td>\n",
       "      <td>yes, I also use ... (click here to type) - sec...</td>\n",
       "      <td>No</td>\n",
       "    </tr>\n",
       "  </tbody>\n",
       "</table>\n",
       "</div>"
      ],
      "text/plain": [
       "   VAR_0     VAR_1                VAR_2           VAR_3                                              VAR_4    VAR_5                            VAR_6             VAR_7                                 VAR_8  VAR_9                        VAR_10                                             VAR_11                                             VAR_12                                             VAR_13                                  VAR_14                                             VAR_15                                             VAR_16  VAR_17                                             VAR_18                                             VAR_19                                             VAR_20\n",
       "0   4088  00000000  2022-01-26 20:42:55   United States  https://surveys.hotjar.com/55a4efda-e0de-46a9-...   tablet  Chrome Mobile WebView 88.0.4324         Android 9  00000000-0000-0000-0000-000000000000    NaN     A friend told me about it  Security and privacy is one of the most import...       I'm still new to all this,  yet to determine             Knowing someone's watching out for me.  None - Bitdefender was my first choice  Because my well informed friend is happy with ...                                                NaN     NaN                                                NaN                                                NaN                                                NaN\n",
       "1   4087  00000000  2022-01-26 19:55:12   United States  https://surveys.hotjar.com/55a4efda-e0de-46a9-...  desktop                     Firefox 96.0        Windows 10  00000000-0000-0000-0000-000000000000    NaN  I received an email about it  I had heard about VPNs and how they provide mo...  I'm not specifically aware of a problem, but I...  Again, I'm not specifically aware of a benefit...  None - Bitdefender was my first choice        I have Bitdefender for my antivirus program               easy to use, but sometimes obtrusive     6.0  It sometimes interferes with my online experie...  yes, I also use ... (click here to type) - ant...  Yes  (click here to type email address) - jean...\n",
       "2   4086  00000000  2022-01-26 17:16:22   United States  https://surveys.hotjar.com/55a4efda-e0de-46a9-...    phone          Chrome Mobile 97.0.4692        Android 10  00000000-0000-0000-0000-000000000000    NaN  I received an email about it  Too many scams, hackers and other bad stuff ou...                                           Phishing                    Easy to use except when banking  None - Bitdefender was my first choice  Good reviews.  Many people tell me virus prote...                        Convenient, automatic, safe     7.0  VPN will never work when doing online banking....  yes, I also use ... (click here to type) - Sec...  Yes  (click here to type email address) - kjmo...\n",
       "3   4085  00000000  2022-01-26 12:22:22  United Kingdom  https://surveys.hotjar.com/55a4efda-e0de-46a9-...  desktop                      Safari 15.2  Mac OS X 10.15.6  00000000-0000-0000-0000-000000000000    NaN    I saw an ad and clicked it            Just to have an added level of security  None it just makes me feel as if I have done a...                                Feeling more secure  None - Bitdefender was my first choice  Because I use Bitdefender antivirus as it mini...                  Quick to function\\nReliable\\nEasy     9.0                           See the three adjectives  yes, I also use ... (click here to type) - Sec...                                                 No\n",
       "4   4084  00000000  2022-01-26 11:40:58          Canada  https://surveys.hotjar.com/55a4efda-e0de-46a9-...  desktop                   Edge 97.0.1072        Windows 10  00000000-0000-0000-0000-000000000000    NaN  I received an email about it  Online privacy is important to me.  I was subs...  Sorry.  No problems experienced.  Limiting the...  Privacy.  It is disturbing how many outfits tr...                  Nord VPN | Express VPN                                             Trust.  Sorry, again.  The VPN services I have used ar...     9.0             I have had no issues with Bitdefender.  yes, I also use ... (click here to type) - sec...                                                 No"
      ]
     },
     "execution_count": 18,
     "metadata": {},
     "output_type": "execute_result"
    }
   ],
   "source": [
    "import matplotlib.pyplot as plt\n",
    "import seaborn as sns\n",
    "sns.set_theme(style=\"darkgrid\")\n",
    "sns.set(rc={'figure.figsize':(10, 6)})\n",
    "\n",
    "# save long col names to a code table\n",
    "def create_varcode_table(input_df):\n",
    "    colname_map = {}\n",
    "    for i, colname in enumerate(input_df.columns):\n",
    "        colname_map['VAR_'+str(i)] = colname\n",
    "\n",
    "    # substitute colnames to make easier to handle\n",
    "    new_cols = [ 'VAR_'+str(i) for i, col in enumerate(input_df.columns) ]  \n",
    "    input_df.columns = new_cols\n",
    "    \n",
    "    return colname_map, input_df\n",
    "\n",
    "colnames, df = create_varcode_table(input_df)\n",
    "\n",
    "# remove unnecessary columns\n",
    "\n",
    "# assign correct data types\n",
    "\n",
    "df.head()"
   ]
  },
  {
   "cell_type": "markdown",
   "id": "34cc8850-7145-426f-ae70-494505256d43",
   "metadata": {},
   "source": [
    "# Prepare the data (transform, feature selection, etc.)"
   ]
  },
  {
   "cell_type": "code",
   "execution_count": 10,
   "id": "3c4ba608-dc7d-4ab6-95b6-57035cc28cb2",
   "metadata": {},
   "outputs": [],
   "source": [
    "from sklearn.impute import SimpleImputer\n",
    "from sklearn.preprocessing import OneHotEncoder\n",
    "from sklearn.preprocessing import MinMaxScaler"
   ]
  },
  {
   "cell_type": "markdown",
   "id": "21bdcc27-815b-4140-bc93-3ddb1b85987e",
   "metadata": {},
   "source": [
    "# Explore & shortlist models\n"
   ]
  },
  {
   "cell_type": "code",
   "execution_count": 14,
   "id": "119d664c-bcf7-41c5-a32c-b58f7b09c894",
   "metadata": {},
   "outputs": [],
   "source": [
    "from sklearn.model_selection import train_test_split\n",
    "from sklearn.model_selection import cross_val_score\n",
    "from sklearn.metrics import classification_report\n",
    "from sklearn.metrics import roc_auc_score\n",
    "\n",
    "# gensim for topic modelling\n",
    "import gensim,logging, warnings\n",
    "import gensim.corpora as corpora\n",
    "from gensim.utils import lemmatize, simple_preprocess\n",
    "from gensim.models import CoherenceModel\n",
    "from gensim.models.ldamodel import LdaModel\n",
    "from gensim.models.coherencemodel import CoherenceModel\n"
   ]
  },
  {
   "cell_type": "markdown",
   "id": "4f79e65f-9856-4b29-9110-597543c98fe9",
   "metadata": {},
   "source": [
    "# Fine-tune the system (parameter tuning)"
   ]
  },
  {
   "cell_type": "code",
   "execution_count": 12,
   "id": "1bb8e932-8e70-46eb-b80e-3124b09074ef",
   "metadata": {},
   "outputs": [],
   "source": [
    "from sklearn.model_selection import GridSearchCV"
   ]
  },
  {
   "cell_type": "markdown",
   "id": "9e9870d5-b5ec-46b1-aa92-c1f7bbb09bae",
   "metadata": {},
   "source": [
    "# Present solution"
   ]
  },
  {
   "cell_type": "markdown",
   "id": "e822fd46-ebe7-4612-8ae5-e5c08e5cea0b",
   "metadata": {},
   "source": [
    "# Launch"
   ]
  },
  {
   "cell_type": "code",
   "execution_count": null,
   "id": "47d084f0-feb9-46d1-a91b-20cb52cb03cb",
   "metadata": {},
   "outputs": [],
   "source": []
  }
 ],
 "metadata": {
  "kernelspec": {
   "display_name": "Python 3 (ipykernel)",
   "language": "python",
   "name": "python3"
  },
  "language_info": {
   "codemirror_mode": {
    "name": "ipython",
    "version": 3
   },
   "file_extension": ".py",
   "mimetype": "text/x-python",
   "name": "python",
   "nbconvert_exporter": "python",
   "pygments_lexer": "ipython3",
   "version": "3.9.7"
  }
 },
 "nbformat": 4,
 "nbformat_minor": 5
}
