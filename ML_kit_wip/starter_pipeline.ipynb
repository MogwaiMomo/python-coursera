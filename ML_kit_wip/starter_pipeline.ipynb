{
 "cells": [
  {
   "cell_type": "code",
   "execution_count": 1,
   "id": "5f1da8bc-3fbd-48bb-8a79-c20200867061",
   "metadata": {},
   "outputs": [],
   "source": [
    "%matplotlib inline"
   ]
  },
  {
   "cell_type": "code",
   "execution_count": 2,
   "id": "17884808-9b4b-48ca-8eaa-900228e58839",
   "metadata": {},
   "outputs": [],
   "source": [
    "# global libraries & presets\n",
    "import warnings\n",
    "warnings.filterwarnings('ignore')\n",
    "\n",
    "import sys, os\n",
    "import numpy as np\n",
    "import pandas as pd\n",
    "import string\n",
    "import re\n",
    "from pprint import pprint\n",
    "from collections import Counter\n",
    "\n",
    "pd.set_option('display.max_rows', 500)\n",
    "pd.set_option('display.max_columns', 500)\n",
    "pd.set_option('display.width', 1000)\n",
    "pd.set_option('display.max_rows', 1000)"
   ]
  },
  {
   "cell_type": "markdown",
   "id": "9babd06d-9ffe-4f14-8ec1-26a34540ecc1",
   "metadata": {},
   "source": [
    "# Frame the problem and look at the big picture"
   ]
  },
  {
   "cell_type": "markdown",
   "id": "cfe240b0-635f-4cdd-bffe-fd93a7b0d133",
   "metadata": {},
   "source": [
    "# Get the data"
   ]
  },
  {
   "cell_type": "code",
   "execution_count": 3,
   "id": "4987cd1a-a2c5-406a-ab2d-0b751332d42d",
   "metadata": {},
   "outputs": [
    {
     "name": "stdout",
     "output_type": "stream",
     "text": [
      "File 0: bitdefender_vpn_customer_responses.csv\n",
      "File 1: bitdefender_vpn_customer_responses-extra.csv\n"
     ]
    }
   ],
   "source": [
    "import scrapy\n",
    "from bs4 import BeautifulSoup\n",
    "\n",
    "# pull in all csvs in working directory\n",
    "all_files = os.listdir(\"./\")    \n",
    "csv_files = list(filter(lambda f: f.endswith('.csv'), all_files))\n",
    "all_dfs = {}\n",
    "\n",
    "# save them all to dict\n",
    "for i, file in enumerate(csv_files):\n",
    "    all_dfs[i] = {'name' : file,\n",
    "                  'data' : pd.read_csv(file)}\n",
    "    print(\"File \"+ str(i) + \": \" + file)\n",
    "\n",
    "# grab the data you want with all_df[i]['data'] ...\n",
    "input_df = all_dfs[0]['data']\n"
   ]
  },
  {
   "cell_type": "markdown",
   "id": "2b8af8dc-662a-4899-8fec-5b934b88680d",
   "metadata": {
    "tags": []
   },
   "source": [
    "# Explore the data"
   ]
  },
  {
   "cell_type": "code",
   "execution_count": 4,
   "id": "eeb13114-5ec7-45dc-b3e6-606ea339abac",
   "metadata": {},
   "outputs": [
    {
     "data": {
      "text/html": [
       "<div>\n",
       "<style scoped>\n",
       "    .dataframe tbody tr th:only-of-type {\n",
       "        vertical-align: middle;\n",
       "    }\n",
       "\n",
       "    .dataframe tbody tr th {\n",
       "        vertical-align: top;\n",
       "    }\n",
       "\n",
       "    .dataframe thead th {\n",
       "        text-align: right;\n",
       "    }\n",
       "</style>\n",
       "<table border=\"1\" class=\"dataframe\">\n",
       "  <thead>\n",
       "    <tr style=\"text-align: right;\">\n",
       "      <th></th>\n",
       "      <th>VAR_3</th>\n",
       "      <th>VAR_5</th>\n",
       "      <th>VAR_6</th>\n",
       "      <th>VAR_7</th>\n",
       "    </tr>\n",
       "  </thead>\n",
       "  <tbody>\n",
       "    <tr>\n",
       "      <th>count</th>\n",
       "      <td>4088</td>\n",
       "      <td>4088</td>\n",
       "      <td>4088</td>\n",
       "      <td>4088</td>\n",
       "    </tr>\n",
       "    <tr>\n",
       "      <th>unique</th>\n",
       "      <td>53</td>\n",
       "      <td>3</td>\n",
       "      <td>103</td>\n",
       "      <td>60</td>\n",
       "    </tr>\n",
       "    <tr>\n",
       "      <th>top</th>\n",
       "      <td>United States</td>\n",
       "      <td>desktop</td>\n",
       "      <td>Chrome 96.0.4664</td>\n",
       "      <td>Windows 10</td>\n",
       "    </tr>\n",
       "    <tr>\n",
       "      <th>freq</th>\n",
       "      <td>2043</td>\n",
       "      <td>2732</td>\n",
       "      <td>966</td>\n",
       "      <td>2115</td>\n",
       "    </tr>\n",
       "  </tbody>\n",
       "</table>\n",
       "</div>"
      ],
      "text/plain": [
       "                VAR_3    VAR_5             VAR_6       VAR_7\n",
       "count            4088     4088              4088        4088\n",
       "unique             53        3               103          60\n",
       "top     United States  desktop  Chrome 96.0.4664  Windows 10\n",
       "freq             2043     2732               966        2115"
      ]
     },
     "execution_count": 4,
     "metadata": {},
     "output_type": "execute_result"
    }
   ],
   "source": [
    "import matplotlib.pyplot as plt\n",
    "import seaborn as sns\n",
    "sns.set_theme(style=\"darkgrid\")\n",
    "sns.set(rc={'figure.figsize':(10, 6)})\n",
    "\n",
    "# save long col names to a code table\n",
    "def create_varcode_table(input_df):\n",
    "    colname_map = {}\n",
    "    for i, colname in enumerate(input_df.columns):\n",
    "        colname_map['VAR_'+str(i)] = colname\n",
    "\n",
    "    # substitute colnames to make easier to handle\n",
    "    new_cols = [ 'VAR_'+str(i) for i, col in enumerate(input_df.columns) ]  \n",
    "    input_df.columns = new_cols\n",
    "    \n",
    "    return colname_map, input_df\n",
    "\n",
    "colnames, df = create_varcode_table(input_df)\n",
    "\n",
    "\n",
    "##### 1. Check for empty & zero variance columns and remove them\n",
    "\n",
    "# check each variable for variation\n",
    "def inspect_var_levels(df):\n",
    "    var = []\n",
    "    levels = []\n",
    "    for col in df:\n",
    "        var.append(col)\n",
    "        levels.append(df[col].value_counts().count())\n",
    "\n",
    "    col_counts = pd.DataFrame({\"variable\": var, \"levels\": levels})\n",
    "    return col_counts.sort_values(by=\"levels\")\n",
    "\n",
    "# function to reassign dtypes\n",
    "def set_dtypes(df, dtypes):\n",
    "    for var in dtypes:\n",
    "        df[var] = df[var].astype(dtypes[var])\n",
    "    return df\n",
    "\n",
    "# view variation of each variable\n",
    "inspect_var_levels(df)\n",
    "\n",
    "# assess values by eye\n",
    "df.head(25)\n",
    "\n",
    "# list of cols to drop\n",
    "cols_to_drop = [\"VAR_0\", \"VAR_1\", \"VAR_4\", \"VAR_8\", \"VAR_9\"]\n",
    "\n",
    "# remove vars with < 2 levels\n",
    "df = df.drop(cols_to_drop, axis=1)\n",
    "\n",
    "##### 2. Check for high-null value cols\n",
    "\n",
    "#df.info()\n",
    "\n",
    "##### 3. assign correct dtypes\n",
    "dtypes = {\n",
    "    'VAR_2': 'datetime64',\n",
    "    'VAR_3': 'category',\n",
    "    'VAR_5': 'category',\n",
    "    'VAR_6': 'category', \n",
    "    'VAR_7': 'category'}\n",
    "\n",
    "df = set_dtypes(df, dtypes)\n",
    "\n",
    "# check variation of data\n",
    "\n",
    "df.describe(include=\"category\")"
   ]
  },
  {
   "cell_type": "code",
   "execution_count": 43,
   "id": "17b4371c-d140-4c0f-b9f3-27907deaaa9d",
   "metadata": {},
   "outputs": [],
   "source": [
    "##### 4. Identify combined-type object variables (aka half open-text, half-category)\n",
    "\n",
    "def check_for_mixed_type_cols(df):\n",
    "    for col in df.select_dtypes(\"object\"):\n",
    "        print(\"Variable: \", col)\n",
    "        print(df[col].value_counts())\n",
    "        print(\" \")\n",
    "    \n",
    "#check_for_mixed_type_cols(df)\n",
    "    \n",
    "mixed_vars = df[[\"VAR_10\", \"VAR_14\", \"VAR_19\", \"VAR_20\"]]\n",
    "text_only_vars = df.select_dtypes(\"object\").drop(mixed_vars, axis=1)"
   ]
  },
  {
   "cell_type": "code",
   "execution_count": 69,
   "id": "f2f4ff36-4ba1-4f71-9f02-8638c3e368cb",
   "metadata": {},
   "outputs": [
    {
     "data": {
      "text/html": [
       "<div>\n",
       "<style scoped>\n",
       "    .dataframe tbody tr th:only-of-type {\n",
       "        vertical-align: middle;\n",
       "    }\n",
       "\n",
       "    .dataframe tbody tr th {\n",
       "        vertical-align: top;\n",
       "    }\n",
       "\n",
       "    .dataframe thead th {\n",
       "        text-align: right;\n",
       "    }\n",
       "</style>\n",
       "<table border=\"1\" class=\"dataframe\">\n",
       "  <thead>\n",
       "    <tr style=\"text-align: right;\">\n",
       "      <th></th>\n",
       "      <th>VAR_10</th>\n",
       "      <th>VAR_14</th>\n",
       "      <th>VAR_19</th>\n",
       "      <th>VAR_20</th>\n",
       "    </tr>\n",
       "  </thead>\n",
       "  <tbody>\n",
       "    <tr>\n",
       "      <th>0</th>\n",
       "      <td>A friend told me about it</td>\n",
       "      <td>None - Bitdefender was my first choice</td>\n",
       "      <td>NaN</td>\n",
       "      <td>NaN</td>\n",
       "    </tr>\n",
       "    <tr>\n",
       "      <th>1</th>\n",
       "      <td>I received an email about it</td>\n",
       "      <td>None - Bitdefender was my first choice</td>\n",
       "      <td>yes, I also use ... (click here to type) - ant...</td>\n",
       "      <td>Yes  (click here to type email address) - jean...</td>\n",
       "    </tr>\n",
       "    <tr>\n",
       "      <th>2</th>\n",
       "      <td>I received an email about it</td>\n",
       "      <td>None - Bitdefender was my first choice</td>\n",
       "      <td>yes, I also use ... (click here to type) - Sec...</td>\n",
       "      <td>Yes  (click here to type email address) - kjmo...</td>\n",
       "    </tr>\n",
       "    <tr>\n",
       "      <th>3</th>\n",
       "      <td>I saw an ad and clicked it</td>\n",
       "      <td>None - Bitdefender was my first choice</td>\n",
       "      <td>yes, I also use ... (click here to type) - Sec...</td>\n",
       "      <td>No</td>\n",
       "    </tr>\n",
       "    <tr>\n",
       "      <th>4</th>\n",
       "      <td>I received an email about it</td>\n",
       "      <td>Nord VPN | Express VPN</td>\n",
       "      <td>yes, I also use ... (click here to type) - sec...</td>\n",
       "      <td>No</td>\n",
       "    </tr>\n",
       "    <tr>\n",
       "      <th>...</th>\n",
       "      <td>...</td>\n",
       "      <td>...</td>\n",
       "      <td>...</td>\n",
       "      <td>...</td>\n",
       "    </tr>\n",
       "    <tr>\n",
       "      <th>4083</th>\n",
       "      <td>Other (click here to type) - Bitdefender's web...</td>\n",
       "      <td>NaN</td>\n",
       "      <td>NaN</td>\n",
       "      <td>NaN</td>\n",
       "    </tr>\n",
       "    <tr>\n",
       "      <th>4084</th>\n",
       "      <td>I saw an ad and clicked it</td>\n",
       "      <td>NaN</td>\n",
       "      <td>NaN</td>\n",
       "      <td>NaN</td>\n",
       "    </tr>\n",
       "    <tr>\n",
       "      <th>4085</th>\n",
       "      <td>A friend told me about it</td>\n",
       "      <td>None - Bitdefender was my first choice</td>\n",
       "      <td>no</td>\n",
       "      <td>No</td>\n",
       "    </tr>\n",
       "    <tr>\n",
       "      <th>4086</th>\n",
       "      <td>I received an email about it</td>\n",
       "      <td>None - Bitdefender was my first choice</td>\n",
       "      <td>yes, I also use ... (click here to type) - TS</td>\n",
       "      <td>No</td>\n",
       "    </tr>\n",
       "    <tr>\n",
       "      <th>4087</th>\n",
       "      <td>I received an email about it</td>\n",
       "      <td>NaN</td>\n",
       "      <td>NaN</td>\n",
       "      <td>NaN</td>\n",
       "    </tr>\n",
       "  </tbody>\n",
       "</table>\n",
       "<p>4088 rows × 4 columns</p>\n",
       "</div>"
      ],
      "text/plain": [
       "                                                 VAR_10                                  VAR_14                                             VAR_19                                             VAR_20\n",
       "0                             A friend told me about it  None - Bitdefender was my first choice                                                NaN                                                NaN\n",
       "1                          I received an email about it  None - Bitdefender was my first choice  yes, I also use ... (click here to type) - ant...  Yes  (click here to type email address) - jean...\n",
       "2                          I received an email about it  None - Bitdefender was my first choice  yes, I also use ... (click here to type) - Sec...  Yes  (click here to type email address) - kjmo...\n",
       "3                            I saw an ad and clicked it  None - Bitdefender was my first choice  yes, I also use ... (click here to type) - Sec...                                                 No\n",
       "4                          I received an email about it                  Nord VPN | Express VPN  yes, I also use ... (click here to type) - sec...                                                 No\n",
       "...                                                 ...                                     ...                                                ...                                                ...\n",
       "4083  Other (click here to type) - Bitdefender's web...                                     NaN                                                NaN                                                NaN\n",
       "4084                         I saw an ad and clicked it                                     NaN                                                NaN                                                NaN\n",
       "4085                          A friend told me about it  None - Bitdefender was my first choice                                                 no                                                 No\n",
       "4086                       I received an email about it  None - Bitdefender was my first choice      yes, I also use ... (click here to type) - TS                                                 No\n",
       "4087                       I received an email about it                                     NaN                                                NaN                                                NaN\n",
       "\n",
       "[4088 rows x 4 columns]"
      ]
     },
     "execution_count": 69,
     "metadata": {},
     "output_type": "execute_result"
    }
   ],
   "source": [
    "###### 5. Process mixed type categories (need to make a code table for each)\n",
    "\n",
    "# for each mixed type var, assign separator string\n",
    "#check_for_mixed_type_cols(mixed_vars)\n",
    "\n",
    "# separate & cluster checkbox options first, then save into original df with 'category' dtype assigned\n",
    "split_var = mixed_vars[\"VAR_14\"].str.split(\" \\| \", expand = False).to_list()\n",
    "\n",
    "# find the longest list item and assign its items as category labels (will be used in OHE to create a sparse matrix)\n",
    "\n"
   ]
  },
  {
   "cell_type": "markdown",
   "id": "34cc8850-7145-426f-ae70-494505256d43",
   "metadata": {},
   "source": [
    "# Prepare the data (transform, feature selection, etc.)"
   ]
  },
  {
   "cell_type": "code",
   "execution_count": 5,
   "id": "3c4ba608-dc7d-4ab6-95b6-57035cc28cb2",
   "metadata": {},
   "outputs": [],
   "source": [
    "from sklearn.impute import SimpleImputer\n",
    "from sklearn.preprocessing import OneHotEncoder\n",
    "from sklearn.preprocessing import MinMaxScaler"
   ]
  },
  {
   "cell_type": "markdown",
   "id": "21bdcc27-815b-4140-bc93-3ddb1b85987e",
   "metadata": {},
   "source": [
    "# Explore & shortlist models\n"
   ]
  },
  {
   "cell_type": "code",
   "execution_count": 6,
   "id": "119d664c-bcf7-41c5-a32c-b58f7b09c894",
   "metadata": {},
   "outputs": [],
   "source": [
    "from sklearn.model_selection import train_test_split\n",
    "from sklearn.model_selection import cross_val_score\n",
    "from sklearn.metrics import classification_report\n",
    "from sklearn.metrics import roc_auc_score\n",
    "\n",
    "# gensim for topic modelling\n",
    "import gensim,logging, warnings\n",
    "import gensim.corpora as corpora\n",
    "from gensim.utils import lemmatize, simple_preprocess\n",
    "from gensim.models import CoherenceModel\n",
    "from gensim.models.ldamodel import LdaModel\n",
    "from gensim.models.coherencemodel import CoherenceModel\n"
   ]
  },
  {
   "cell_type": "markdown",
   "id": "4f79e65f-9856-4b29-9110-597543c98fe9",
   "metadata": {},
   "source": [
    "# Fine-tune the system (parameter tuning)"
   ]
  },
  {
   "cell_type": "code",
   "execution_count": 7,
   "id": "1bb8e932-8e70-46eb-b80e-3124b09074ef",
   "metadata": {},
   "outputs": [],
   "source": [
    "from sklearn.model_selection import GridSearchCV"
   ]
  },
  {
   "cell_type": "markdown",
   "id": "9e9870d5-b5ec-46b1-aa92-c1f7bbb09bae",
   "metadata": {},
   "source": [
    "# Present solution"
   ]
  },
  {
   "cell_type": "markdown",
   "id": "e822fd46-ebe7-4612-8ae5-e5c08e5cea0b",
   "metadata": {},
   "source": [
    "# Launch"
   ]
  },
  {
   "cell_type": "code",
   "execution_count": null,
   "id": "47d084f0-feb9-46d1-a91b-20cb52cb03cb",
   "metadata": {},
   "outputs": [],
   "source": []
  }
 ],
 "metadata": {
  "kernelspec": {
   "display_name": "Python 3 (ipykernel)",
   "language": "python",
   "name": "python3"
  },
  "language_info": {
   "codemirror_mode": {
    "name": "ipython",
    "version": 3
   },
   "file_extension": ".py",
   "mimetype": "text/x-python",
   "name": "python",
   "nbconvert_exporter": "python",
   "pygments_lexer": "ipython3",
   "version": "3.9.7"
  }
 },
 "nbformat": 4,
 "nbformat_minor": 5
}
