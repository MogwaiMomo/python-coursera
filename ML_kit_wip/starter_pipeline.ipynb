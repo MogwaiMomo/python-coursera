{
 "cells": [
  {
   "cell_type": "code",
   "execution_count": null,
   "id": "5f1da8bc-3fbd-48bb-8a79-c20200867061",
   "metadata": {},
   "outputs": [],
   "source": [
    "%matplotlib inline"
   ]
  },
  {
   "cell_type": "code",
   "execution_count": null,
   "id": "17884808-9b4b-48ca-8eaa-900228e58839",
   "metadata": {},
   "outputs": [],
   "source": [
    "# global libraries & presets\n",
    "import warnings\n",
    "warnings.filterwarnings('ignore')\n",
    "\n",
    "import sys\n",
    "import numpy as np\n",
    "import pandas as pd\n",
    "import string\n",
    "import re\n",
    "from pprint import pprint\n",
    "from collections import Counter\n",
    "\n",
    "pd.set_option('display.max_rows', 500)\n",
    "pd.set_option('display.max_columns', 500)\n",
    "pd.set_option('display.width', 1000)\n",
    "pd.set_option('display.max_rows', 1000)"
   ]
  },
  {
   "cell_type": "markdown",
   "id": "9babd06d-9ffe-4f14-8ec1-26a34540ecc1",
   "metadata": {},
   "source": [
    "# Frame the problem and look at the big picture"
   ]
  },
  {
   "cell_type": "markdown",
   "id": "cfe240b0-635f-4cdd-bffe-fd93a7b0d133",
   "metadata": {},
   "source": [
    "# Get the data"
   ]
  },
  {
   "cell_type": "code",
   "execution_count": 4,
   "id": "4987cd1a-a2c5-406a-ab2d-0b751332d42d",
   "metadata": {},
   "outputs": [],
   "source": [
    "import scrapy\n",
    "from bs4 import BeautifulSoup\n"
   ]
  },
  {
   "cell_type": "markdown",
   "id": "2b8af8dc-662a-4899-8fec-5b934b88680d",
   "metadata": {
    "tags": []
   },
   "source": [
    "# Explore the data"
   ]
  },
  {
   "cell_type": "code",
   "execution_count": 5,
   "id": "eeb13114-5ec7-45dc-b3e6-606ea339abac",
   "metadata": {},
   "outputs": [],
   "source": [
    "import matplotlib.pyplot as plt\n",
    "import seaborn as sns\n",
    "\n",
    "sns.set_theme(style=\"darkgrid\")\n",
    "sns.set(rc={'figure.figsize':(10, 6)})"
   ]
  },
  {
   "cell_type": "markdown",
   "id": "34cc8850-7145-426f-ae70-494505256d43",
   "metadata": {},
   "source": [
    "# Prepare the data (transform, feature selection, etc.)"
   ]
  },
  {
   "cell_type": "code",
   "execution_count": 6,
   "id": "3c4ba608-dc7d-4ab6-95b6-57035cc28cb2",
   "metadata": {},
   "outputs": [],
   "source": [
    "from sklearn.impute import SimpleImputer\n",
    "from sklearn.preprocessing import OneHotEncoder\n",
    "from sklearn.preprocessing import MinMaxScaler\n"
   ]
  },
  {
   "cell_type": "markdown",
   "id": "21bdcc27-815b-4140-bc93-3ddb1b85987e",
   "metadata": {},
   "source": [
    "# Explore & shortlist models\n"
   ]
  },
  {
   "cell_type": "code",
   "execution_count": null,
   "id": "119d664c-bcf7-41c5-a32c-b58f7b09c894",
   "metadata": {},
   "outputs": [],
   "source": [
    "from sklearn.model_selection import train_test_split\n",
    "from sklearn.model_selection import cross_val_score\n",
    "from sklearn.metrics import classification_report\n",
    "from sklearn.metrics import roc_auc_score\n",
    "\n",
    "# gensim for topic modelling\n",
    "import gensim, spacy, logging, warnings\n",
    "import gensim.corpora as corpora\n",
    "from gensim.utils import lemmatize, simple_preprocess\n",
    "from gensim.models import CoherenceModel\n",
    "from gensim.models.ldamodel import LdaModel\n",
    "from gensim.models.coherencemodel import CoherenceModel\n"
   ]
  },
  {
   "cell_type": "markdown",
   "id": "4f79e65f-9856-4b29-9110-597543c98fe9",
   "metadata": {},
   "source": [
    "# Fine-tune the system (parameter tuning)"
   ]
  },
  {
   "cell_type": "code",
   "execution_count": null,
   "id": "1bb8e932-8e70-46eb-b80e-3124b09074ef",
   "metadata": {},
   "outputs": [],
   "source": [
    "from sklearn.model_selection import GridSearchCV"
   ]
  },
  {
   "cell_type": "markdown",
   "id": "9e9870d5-b5ec-46b1-aa92-c1f7bbb09bae",
   "metadata": {},
   "source": [
    "# Present solution"
   ]
  },
  {
   "cell_type": "markdown",
   "id": "e822fd46-ebe7-4612-8ae5-e5c08e5cea0b",
   "metadata": {},
   "source": [
    "# Launch"
   ]
  },
  {
   "cell_type": "code",
   "execution_count": null,
   "id": "47d084f0-feb9-46d1-a91b-20cb52cb03cb",
   "metadata": {},
   "outputs": [],
   "source": []
  }
 ],
 "metadata": {
  "kernelspec": {
   "display_name": "Python 3 (ipykernel)",
   "language": "python",
   "name": "python3"
  },
  "language_info": {
   "codemirror_mode": {
    "name": "ipython",
    "version": 3
   },
   "file_extension": ".py",
   "mimetype": "text/x-python",
   "name": "python",
   "nbconvert_exporter": "python",
   "pygments_lexer": "ipython3",
   "version": "3.9.7"
  }
 },
 "nbformat": 4,
 "nbformat_minor": 5
}
